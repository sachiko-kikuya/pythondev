{
  "cells": [
    {
      "cell_type": "markdown",
      "id": "3cce5286",
      "metadata": {
        "id": "3cce5286"
      },
      "source": [
        "## シーケンスとしての文字列"
      ]
    },
    {
      "cell_type": "markdown",
      "id": "liM5hbzOvW9L",
      "metadata": {
        "id": "liM5hbzOvW9L"
      },
      "source": [
        "### 文字列のスライス"
      ]
    },
    {
      "cell_type": "code",
      "execution_count": 1,
      "id": "8bef2252",
      "metadata": {
        "id": "8bef2252"
      },
      "outputs": [],
      "source": [
        "s = \"abcdefghijklmnopqrstuvwxyz\""
      ]
    },
    {
      "cell_type": "code",
      "execution_count": 5,
      "id": "ced3bd69",
      "metadata": {},
      "outputs": [],
      "source": [
        "a = \"abcdefg\""
      ]
    },
    {
      "cell_type": "code",
      "execution_count": 6,
      "id": "5cd97864",
      "metadata": {},
      "outputs": [
        {
          "data": {
            "text/plain": [
              "'a'"
            ]
          },
          "execution_count": 6,
          "metadata": {},
          "output_type": "execute_result"
        }
      ],
      "source": [
        "a[0]"
      ]
    },
    {
      "cell_type": "code",
      "execution_count": 8,
      "id": "9420e657",
      "metadata": {},
      "outputs": [
        {
          "data": {
            "text/plain": [
              "'g'"
            ]
          },
          "execution_count": 8,
          "metadata": {},
          "output_type": "execute_result"
        }
      ],
      "source": [
        "a[6]"
      ]
    },
    {
      "cell_type": "code",
      "execution_count": null,
      "id": "4b714e9b",
      "metadata": {},
      "outputs": [
        {
          "data": {
            "text/plain": [
              "'f'"
            ]
          },
          "execution_count": 10,
          "metadata": {},
          "output_type": "execute_result"
        }
      ],
      "source": [
        "a[-2]"
      ]
    },
    {
      "cell_type": "code",
      "execution_count": 11,
      "id": "9a580911",
      "metadata": {},
      "outputs": [
        {
          "data": {
            "text/plain": [
              "'abc'"
            ]
          },
          "execution_count": 11,
          "metadata": {},
          "output_type": "execute_result"
        }
      ],
      "source": [
        "a[0:3]"
      ]
    },
    {
      "cell_type": "code",
      "execution_count": 12,
      "id": "ff0cbcd5",
      "metadata": {},
      "outputs": [
        {
          "data": {
            "text/plain": [
              "'abcde'"
            ]
          },
          "execution_count": 12,
          "metadata": {},
          "output_type": "execute_result"
        }
      ],
      "source": [
        "a[:5]"
      ]
    },
    {
      "cell_type": "markdown",
      "id": "86044459",
      "metadata": {
        "id": "86044459"
      },
      "source": [
        "#### 特定の1要素を取得する"
      ]
    },
    {
      "cell_type": "code",
      "execution_count": null,
      "id": "SKdoI2Jtv2gy",
      "metadata": {
        "colab": {
          "base_uri": "https://localhost:8080/",
          "height": 35
        },
        "id": "SKdoI2Jtv2gy",
        "outputId": "450a8749-5a56-47fd-991e-1a3808ecefd9"
      },
      "outputs": [
        {
          "data": {
            "text/plain": [
              "'a'"
            ]
          },
          "execution_count": 2,
          "metadata": {},
          "output_type": "execute_result"
        }
      ],
      "source": [
        "s[0] # 0番目の要素を表示"
      ]
    },
    {
      "cell_type": "code",
      "execution_count": null,
      "id": "-pU4wHs4v3Mz",
      "metadata": {
        "colab": {
          "base_uri": "https://localhost:8080/",
          "height": 35
        },
        "id": "-pU4wHs4v3Mz",
        "outputId": "b8ee80bd-0711-4167-958e-272b81cd7c9b"
      },
      "outputs": [
        {
          "data": {
            "text/plain": [
              "'b'"
            ]
          },
          "execution_count": 3,
          "metadata": {},
          "output_type": "execute_result"
        }
      ],
      "source": [
        "s[1] # 最初から2番目の要素を表示（1番目が0のため、1は2番目になる）"
      ]
    },
    {
      "cell_type": "code",
      "execution_count": 4,
      "id": "cxaFasJjv352",
      "metadata": {
        "colab": {
          "base_uri": "https://localhost:8080/",
          "height": 35
        },
        "id": "cxaFasJjv352",
        "outputId": "8ecc09f1-98d0-4094-dadb-24d40684a932"
      },
      "outputs": [
        {
          "data": {
            "text/plain": [
              "'c'"
            ]
          },
          "execution_count": 4,
          "metadata": {},
          "output_type": "execute_result"
        }
      ],
      "source": [
        "s[2]"
      ]
    },
    {
      "cell_type": "code",
      "execution_count": 5,
      "id": "XncqEPv5v4kU",
      "metadata": {
        "colab": {
          "base_uri": "https://localhost:8080/",
          "height": 35
        },
        "id": "XncqEPv5v4kU",
        "outputId": "3bec7efc-f3e3-4c25-e86d-862800bd1e3a"
      },
      "outputs": [
        {
          "data": {
            "text/plain": [
              "'z'"
            ]
          },
          "execution_count": 5,
          "metadata": {},
          "output_type": "execute_result"
        }
      ],
      "source": [
        "s[25]"
      ]
    },
    {
      "cell_type": "code",
      "execution_count": null,
      "id": "jskKxToiv5Us",
      "metadata": {
        "colab": {
          "base_uri": "https://localhost:8080/",
          "height": 180
        },
        "id": "jskKxToiv5Us",
        "outputId": "e3151a16-2077-4707-c435-896b6b695fe2"
      },
      "outputs": [
        {
          "ename": "IndexError",
          "evalue": "string index out of range",
          "output_type": "error",
          "traceback": [
            "\u001b[31m---------------------------------------------------------------------------\u001b[39m",
            "\u001b[31mIndexError\u001b[39m                                Traceback (most recent call last)",
            "\u001b[36mCell\u001b[39m\u001b[36m \u001b[39m\u001b[32mIn[6]\u001b[39m\u001b[32m, line 1\u001b[39m\n\u001b[32m----> \u001b[39m\u001b[32m1\u001b[39m \u001b[43ms\u001b[49m\u001b[43m[\u001b[49m\u001b[32;43m26\u001b[39;49m\u001b[43m]\u001b[49m\n",
            "\u001b[31mIndexError\u001b[39m: string index out of range"
          ]
        }
      ],
      "source": [
        "s[26] # aからzまでは26文字しかないので、27番目（26は27番目を指す）を表示指示をすると存在しないためエラーになる "
      ]
    },
    {
      "cell_type": "code",
      "execution_count": null,
      "id": "GBnAd-YzvwGq",
      "metadata": {
        "colab": {
          "base_uri": "https://localhost:8080/",
          "height": 35
        },
        "id": "GBnAd-YzvwGq",
        "outputId": "f46c4303-5dc7-40e9-ac8f-fdb0a20a1bab"
      },
      "outputs": [
        {
          "data": {
            "text/plain": [
              "'z'"
            ]
          },
          "execution_count": 7,
          "metadata": {},
          "output_type": "execute_result"
        }
      ],
      "source": [
        "s[-1] # 後ろから1番目を表示"
      ]
    },
    {
      "cell_type": "code",
      "execution_count": null,
      "id": "TZn_qa-cvxDh",
      "metadata": {
        "colab": {
          "base_uri": "https://localhost:8080/",
          "height": 35
        },
        "id": "TZn_qa-cvxDh",
        "outputId": "4dbbe5c8-b2d4-4e1a-98d4-30a33bf81226"
      },
      "outputs": [
        {
          "data": {
            "text/plain": [
              "'y'"
            ]
          },
          "execution_count": 8,
          "metadata": {},
          "output_type": "execute_result"
        }
      ],
      "source": [
        "s[-2] # 後ろから2番目を表示"
      ]
    },
    {
      "cell_type": "code",
      "execution_count": 9,
      "id": "19nJ_Ot4vyG-",
      "metadata": {
        "colab": {
          "base_uri": "https://localhost:8080/",
          "height": 35
        },
        "id": "19nJ_Ot4vyG-",
        "outputId": "fea40518-37ab-4cb8-b761-7163009fff63"
      },
      "outputs": [
        {
          "data": {
            "text/plain": [
              "'x'"
            ]
          },
          "execution_count": 9,
          "metadata": {},
          "output_type": "execute_result"
        }
      ],
      "source": [
        "s[-3]"
      ]
    },
    {
      "cell_type": "code",
      "execution_count": 10,
      "id": "byE8x4aPvy0F",
      "metadata": {
        "colab": {
          "base_uri": "https://localhost:8080/",
          "height": 35
        },
        "id": "byE8x4aPvy0F",
        "outputId": "3a934ea0-368e-4020-c5e1-9c95c572a1c3"
      },
      "outputs": [
        {
          "data": {
            "text/plain": [
              "'b'"
            ]
          },
          "execution_count": 10,
          "metadata": {},
          "output_type": "execute_result"
        }
      ],
      "source": [
        "s[-25]"
      ]
    },
    {
      "cell_type": "code",
      "execution_count": 11,
      "id": "40HyXl1Jvzh5",
      "metadata": {
        "colab": {
          "base_uri": "https://localhost:8080/",
          "height": 35
        },
        "id": "40HyXl1Jvzh5",
        "outputId": "38635037-6ecd-4dce-db12-1793ba44e9a7"
      },
      "outputs": [
        {
          "data": {
            "text/plain": [
              "'a'"
            ]
          },
          "execution_count": 11,
          "metadata": {},
          "output_type": "execute_result"
        }
      ],
      "source": [
        "s[-26]"
      ]
    },
    {
      "cell_type": "code",
      "execution_count": null,
      "id": "20489855",
      "metadata": {
        "colab": {
          "base_uri": "https://localhost:8080/",
          "height": 180
        },
        "id": "20489855",
        "outputId": "a097ffbf-a98f-4846-ca60-9040e2d8c725"
      },
      "outputs": [
        {
          "ename": "IndexError",
          "evalue": "string index out of range",
          "output_type": "error",
          "traceback": [
            "\u001b[31m---------------------------------------------------------------------------\u001b[39m",
            "\u001b[31mIndexError\u001b[39m                                Traceback (most recent call last)",
            "\u001b[36mCell\u001b[39m\u001b[36m \u001b[39m\u001b[32mIn[12]\u001b[39m\u001b[32m, line 1\u001b[39m\n\u001b[32m----> \u001b[39m\u001b[32m1\u001b[39m \u001b[43ms\u001b[49m\u001b[43m[\u001b[49m\u001b[43m-\u001b[49m\u001b[32;43m27\u001b[39;49m\u001b[43m]\u001b[49m\n",
            "\u001b[31mIndexError\u001b[39m: string index out of range"
          ]
        }
      ],
      "source": [
        "s[-27] # 後ろから27番目を表示。全部で26個しかないので後ろから27番目は存在せずエラーになる"
      ]
    },
    {
      "cell_type": "markdown",
      "id": "8e47b1e8",
      "metadata": {
        "id": "8e47b1e8"
      },
      "source": [
        "### 部分的に文字列を取り出す"
      ]
    },
    {
      "cell_type": "code",
      "execution_count": null,
      "id": "lIn_fAYfwFBq",
      "metadata": {
        "colab": {
          "base_uri": "https://localhost:8080/",
          "height": 35
        },
        "id": "lIn_fAYfwFBq",
        "outputId": "bd91a6fb-1f5c-4610-80ee-e755c2f43a45"
      },
      "outputs": [
        {
          "data": {
            "text/plain": [
              "'abcdefg'"
            ]
          },
          "execution_count": 13,
          "metadata": {},
          "output_type": "execute_result"
        }
      ],
      "source": [
        "s[0:7] # 最初（0番目）から6番目までを表示する"
      ]
    },
    {
      "cell_type": "code",
      "execution_count": null,
      "id": "0HPJMpi9wFgG",
      "metadata": {
        "colab": {
          "base_uri": "https://localhost:8080/",
          "height": 35
        },
        "id": "0HPJMpi9wFgG",
        "outputId": "567fd313-8f7d-414d-9b8e-630830757e82"
      },
      "outputs": [
        {
          "data": {
            "text/plain": [
              "'hijklmn'"
            ]
          },
          "execution_count": 14,
          "metadata": {},
          "output_type": "execute_result"
        }
      ],
      "source": [
        "s[7:14] # 6番目から13番目までを表示する"
      ]
    },
    {
      "cell_type": "code",
      "execution_count": 15,
      "id": "5Rq7IaAkwGEm",
      "metadata": {
        "colab": {
          "base_uri": "https://localhost:8080/",
          "height": 35
        },
        "id": "5Rq7IaAkwGEm",
        "outputId": "7f5f348e-b991-4fce-a19a-637799a3bdb9"
      },
      "outputs": [
        {
          "data": {
            "text/plain": [
              "'opqrstu'"
            ]
          },
          "execution_count": 15,
          "metadata": {},
          "output_type": "execute_result"
        }
      ],
      "source": [
        "s[14:21]"
      ]
    },
    {
      "cell_type": "code",
      "execution_count": 16,
      "id": "tV-EjweTwGko",
      "metadata": {
        "colab": {
          "base_uri": "https://localhost:8080/",
          "height": 35
        },
        "id": "tV-EjweTwGko",
        "outputId": "40273b60-88fe-4076-973a-630594be3515"
      },
      "outputs": [
        {
          "data": {
            "text/plain": [
              "'vwxyz'"
            ]
          },
          "execution_count": 16,
          "metadata": {},
          "output_type": "execute_result"
        }
      ],
      "source": [
        "s[21:26]"
      ]
    },
    {
      "cell_type": "code",
      "execution_count": null,
      "id": "34117fb9",
      "metadata": {
        "colab": {
          "base_uri": "https://localhost:8080/",
          "height": 35
        },
        "id": "34117fb9",
        "outputId": "e7e9d846-9a68-4d07-f27b-09ffc4e4c4c8"
      },
      "outputs": [
        {
          "data": {
            "text/plain": [
              "'vwxy'"
            ]
          },
          "execution_count": 17,
          "metadata": {},
          "output_type": "execute_result"
        }
      ],
      "source": [
        "s[-5:-1] # 後ろから5番目から1番目までを表示する"
      ]
    },
    {
      "cell_type": "code",
      "execution_count": null,
      "id": "af7fL7HLwIeA",
      "metadata": {
        "colab": {
          "base_uri": "https://localhost:8080/",
          "height": 35
        },
        "id": "af7fL7HLwIeA",
        "outputId": "dcf79222-bb83-4dd0-935b-9fd4a78c39b8"
      },
      "outputs": [
        {
          "data": {
            "text/plain": [
              "'abcdefghij'"
            ]
          },
          "execution_count": 18,
          "metadata": {},
          "output_type": "execute_result"
        }
      ],
      "source": [
        "s[:10] # 最初から9番目までを表示する"
      ]
    },
    {
      "cell_type": "code",
      "execution_count": null,
      "id": "9OdKvmmPwI4Z",
      "metadata": {
        "colab": {
          "base_uri": "https://localhost:8080/",
          "height": 35
        },
        "id": "9OdKvmmPwI4Z",
        "outputId": "a6f49019-7f59-453b-8eec-97779ad7d3cc"
      },
      "outputs": [
        {
          "data": {
            "text/plain": [
              "'klmnopqrstuvwxyz'"
            ]
          },
          "execution_count": 19,
          "metadata": {},
          "output_type": "execute_result"
        }
      ],
      "source": [
        "s[10:] # 後ろから10番目から、1番最後までを表示する"
      ]
    },
    {
      "cell_type": "code",
      "execution_count": 20,
      "id": "gpA-gjLgwJWr",
      "metadata": {
        "colab": {
          "base_uri": "https://localhost:8080/",
          "height": 35
        },
        "id": "gpA-gjLgwJWr",
        "outputId": "72ebb4aa-4ba0-4af6-b07c-c10ccac7b9dd"
      },
      "outputs": [
        {
          "data": {
            "text/plain": [
              "'vwxyz'"
            ]
          },
          "execution_count": 20,
          "metadata": {},
          "output_type": "execute_result"
        }
      ],
      "source": [
        "s[-5:]"
      ]
    },
    {
      "cell_type": "code",
      "execution_count": 21,
      "id": "_favkpeHwJ2e",
      "metadata": {
        "colab": {
          "base_uri": "https://localhost:8080/",
          "height": 35
        },
        "id": "_favkpeHwJ2e",
        "outputId": "b2b4364a-a5a1-484b-a190-637c88820b81"
      },
      "outputs": [
        {
          "data": {
            "text/plain": [
              "'abcdef'"
            ]
          },
          "execution_count": 21,
          "metadata": {},
          "output_type": "execute_result"
        }
      ],
      "source": [
        "s[:-20]"
      ]
    },
    {
      "cell_type": "code",
      "execution_count": 22,
      "id": "Rqj9YXevwL5U",
      "metadata": {
        "colab": {
          "base_uri": "https://localhost:8080/",
          "height": 35
        },
        "id": "Rqj9YXevwL5U",
        "outputId": "f1421354-0c57-442c-b12b-f4892e920167"
      },
      "outputs": [
        {
          "data": {
            "text/plain": [
              "'abcdefghijklmnopqrstuvwxyz'"
            ]
          },
          "execution_count": 22,
          "metadata": {},
          "output_type": "execute_result"
        }
      ],
      "source": [
        "s[:]"
      ]
    },
    {
      "cell_type": "markdown",
      "id": "41264b47",
      "metadata": {
        "id": "41264b47"
      },
      "source": [
        "### 飛び飛びで文字列を取得する"
      ]
    },
    {
      "cell_type": "code",
      "execution_count": null,
      "id": "TRBc2-ZtwUlN",
      "metadata": {
        "colab": {
          "base_uri": "https://localhost:8080/",
          "height": 35
        },
        "id": "TRBc2-ZtwUlN",
        "outputId": "df1e0276-a3e0-425f-f64c-cb0487aa539e"
      },
      "outputs": [
        {
          "data": {
            "text/plain": [
              "'acegi'"
            ]
          },
          "execution_count": 23,
          "metadata": {},
          "output_type": "execute_result"
        }
      ],
      "source": [
        "s[0:10:2] # 文字列変数名[開始位置:終了位置:増分] →　最初から9番目までで3つおきに表示する"
      ]
    },
    {
      "cell_type": "code",
      "execution_count": null,
      "id": "ti-4OABvwVVl",
      "metadata": {
        "colab": {
          "base_uri": "https://localhost:8080/",
          "height": 35
        },
        "id": "ti-4OABvwVVl",
        "outputId": "03dd5a64-5747-4823-e015-59fe24851560"
      },
      "outputs": [
        {
          "data": {
            "text/plain": [
              "'behknqt'"
            ]
          },
          "execution_count": 24,
          "metadata": {},
          "output_type": "execute_result"
        }
      ],
      "source": [
        "s[1:20:3] # 文字列変数名[開始位置:終了位置:増分] →　2番目から19番目までで3つおきに表示する"
      ]
    },
    {
      "cell_type": "code",
      "execution_count": 25,
      "id": "oh0hWjWJwWFP",
      "metadata": {
        "colab": {
          "base_uri": "https://localhost:8080/",
          "height": 35
        },
        "id": "oh0hWjWJwWFP",
        "outputId": "5aca2499-f7a9-4317-87c6-bbcfa9ad5d43"
      },
      "outputs": [
        {
          "data": {
            "text/plain": [
              "'zyxwv'"
            ]
          },
          "execution_count": 25,
          "metadata": {},
          "output_type": "execute_result"
        }
      ],
      "source": [
        "s[-1:-6:-1]"
      ]
    },
    {
      "cell_type": "code",
      "execution_count": 26,
      "id": "XIE8mn4ywWqh",
      "metadata": {
        "colab": {
          "base_uri": "https://localhost:8080/",
          "height": 35
        },
        "id": "XIE8mn4ywWqh",
        "outputId": "367eb8b6-9157-494a-e5d1-2012ff7a6b1c"
      },
      "outputs": [
        {
          "data": {
            "text/plain": [
              "'zxvtr'"
            ]
          },
          "execution_count": 26,
          "metadata": {},
          "output_type": "execute_result"
        }
      ],
      "source": [
        "s[-1:-10:-2]"
      ]
    },
    {
      "cell_type": "code",
      "execution_count": 27,
      "id": "5xgucUhUwXfC",
      "metadata": {
        "colab": {
          "base_uri": "https://localhost:8080/",
          "height": 35
        },
        "id": "5xgucUhUwXfC",
        "outputId": "46c7ffc4-4e7c-4e5d-c11f-984db1e16230"
      },
      "outputs": [
        {
          "data": {
            "text/plain": [
              "'zyxwvutsrqponmlkjihgfedcba'"
            ]
          },
          "execution_count": 27,
          "metadata": {},
          "output_type": "execute_result"
        }
      ],
      "source": [
        "s[::-1]"
      ]
    },
    {
      "cell_type": "code",
      "execution_count": 28,
      "id": "927a772d",
      "metadata": {
        "colab": {
          "base_uri": "https://localhost:8080/",
          "height": 35
        },
        "id": "927a772d",
        "outputId": "0b82a3ae-8819-4600-ec35-0cc12b766745"
      },
      "outputs": [
        {
          "data": {
            "text/plain": [
              "'abcdefghijklmnopqrstuvwxyz'"
            ]
          },
          "execution_count": 28,
          "metadata": {},
          "output_type": "execute_result"
        }
      ],
      "source": [
        "s[::]"
      ]
    },
    {
      "cell_type": "code",
      "execution_count": 1,
      "id": "7DKfUh82Xz1Y",
      "metadata": {
        "colab": {
          "base_uri": "https://localhost:8080/"
        },
        "id": "7DKfUh82Xz1Y",
        "outputId": "a4ece3fe-123b-485f-b1f4-5dc0e7c0d6e7"
      },
      "outputs": [
        {
          "name": "stdout",
          "output_type": "stream",
          "text": [
            "「にんてんどううどんてんに」は回文です！\n",
            "「Pythonは便利だが遅い」は回文ではないようです。\n",
            "「no devil lived on」は回文です！\n"
          ]
        }
      ],
      "source": [
        "def is_kaibun(s):\n",
        "    if s == s[::-1]: # 元の値とひっくり返した値が同値である\n",
        "        return True\n",
        "    else:\n",
        "\n",
        "        return False\n",
        "\n",
        "s = \"にんてんどううどんてんに\"\n",
        "result = is_kaibun(s)\n",
        "if result: # True\n",
        "    print(f\"「{s}」は回文です！\")\n",
        "else: # False\n",
        "    print(f\"「{s}」は回文ではないようです。\")\n",
        "\n",
        "s = \"Pythonは便利だが遅い\"\n",
        "result = is_kaibun(s)\n",
        "if result: # True\n",
        "    print(f\"「{s}」は回文です！\")\n",
        "else: # False\n",
        "    print(f\"「{s}」は回文ではないようです。\")\n",
        "\n",
        "s = \"no devil lived on\"\n",
        "result = is_kaibun(s)\n",
        "if result: # True\n",
        "    print(f\"「{s}」は回文です！\")\n",
        "else: # False\n",
        "    print(f\"「{s}」は回文ではないようです。\")"
      ]
    },
    {
      "cell_type": "markdown",
      "id": "6995b49c",
      "metadata": {
        "id": "6995b49c"
      },
      "source": [
        "## リストの基本"
      ]
    },
    {
      "cell_type": "markdown",
      "id": "TPnzPhCRnRIy",
      "metadata": {
        "id": "TPnzPhCRnRIy"
      },
      "source": [
        "### リストを作成する"
      ]
    },
    {
      "cell_type": "markdown",
      "id": "VG86AX46l26a",
      "metadata": {
        "id": "VG86AX46l26a"
      },
      "source": [
        "#### `[]`でリストを定義する"
      ]
    },
    {
      "cell_type": "code",
      "execution_count": 30,
      "id": "a6f2fc62",
      "metadata": {
        "id": "a6f2fc62"
      },
      "outputs": [],
      "source": [
        "a = [2, 5, 3, 6, 1, 4]\n",
        "b = [\"tanaka\", \"suzuki\", \"takahashi\"]\n",
        "c = []\n",
        "d = [3, \"test\", 7, \"hoge\", \"fuga\", 10]"
      ]
    },
    {
      "cell_type": "code",
      "execution_count": 31,
      "id": "abba6f41",
      "metadata": {
        "colab": {
          "base_uri": "https://localhost:8080/"
        },
        "id": "abba6f41",
        "outputId": "1632168a-879e-46b1-9e44-fdca6eebfcc4"
      },
      "outputs": [
        {
          "name": "stdout",
          "output_type": "stream",
          "text": [
            "[2, 5, 3, 6, 1, 4]\n",
            "['tanaka', 'suzuki', 'takahashi']\n",
            "[]\n",
            "[3, 'test', 7, 'hoge', 'fuga', 10]\n"
          ]
        }
      ],
      "source": [
        "print(a)\n",
        "print(b)\n",
        "print(c)\n",
        "print(d)"
      ]
    },
    {
      "cell_type": "code",
      "execution_count": 32,
      "id": "dea8d703",
      "metadata": {
        "colab": {
          "base_uri": "https://localhost:8080/"
        },
        "id": "dea8d703",
        "outputId": "1c534d26-8217-4432-d2c1-711ef387177a"
      },
      "outputs": [
        {
          "data": {
            "text/plain": [
              "list"
            ]
          },
          "execution_count": 32,
          "metadata": {},
          "output_type": "execute_result"
        }
      ],
      "source": [
        "type(a)"
      ]
    },
    {
      "cell_type": "markdown",
      "id": "ef15e3e0",
      "metadata": {
        "id": "ef15e3e0"
      },
      "source": [
        "#### `list()`関数を使う"
      ]
    },
    {
      "cell_type": "code",
      "execution_count": 33,
      "id": "5U_wK20mww3b",
      "metadata": {
        "colab": {
          "base_uri": "https://localhost:8080/"
        },
        "id": "5U_wK20mww3b",
        "outputId": "c8243ddc-c0e1-4a33-d1d3-6e6c23b6d510"
      },
      "outputs": [
        {
          "data": {
            "text/plain": [
              "['T', 'e', 'c', 'h', 'A', 'c', 'a', 'd', 'e', 'm', 'y']"
            ]
          },
          "execution_count": 33,
          "metadata": {},
          "output_type": "execute_result"
        }
      ],
      "source": [
        "e = list(\"TechAcademy\")\n",
        "e"
      ]
    },
    {
      "cell_type": "code",
      "execution_count": 34,
      "id": "N004J-arwxwb",
      "metadata": {
        "colab": {
          "base_uri": "https://localhost:8080/"
        },
        "id": "N004J-arwxwb",
        "outputId": "9c4f83cf-3d3c-49ea-ee97-98f8d7e56f65"
      },
      "outputs": [
        {
          "data": {
            "text/plain": [
              "[1, 3, 5, 7, 9]"
            ]
          },
          "execution_count": 34,
          "metadata": {},
          "output_type": "execute_result"
        }
      ],
      "source": [
        "f = list(range(1, 11, 2))\n",
        "f"
      ]
    },
    {
      "cell_type": "code",
      "execution_count": 35,
      "id": "a58469d1",
      "metadata": {
        "colab": {
          "base_uri": "https://localhost:8080/"
        },
        "id": "a58469d1",
        "outputId": "0f4e482c-bbbb-4cdb-b121-c07234646c24"
      },
      "outputs": [
        {
          "data": {
            "text/plain": [
              "[]"
            ]
          },
          "execution_count": 35,
          "metadata": {},
          "output_type": "execute_result"
        }
      ],
      "source": [
        "g = list()\n",
        "g"
      ]
    },
    {
      "cell_type": "markdown",
      "id": "f39ec84f",
      "metadata": {
        "id": "f39ec84f"
      },
      "source": [
        "### リストの要素を参照する"
      ]
    },
    {
      "cell_type": "code",
      "execution_count": 36,
      "id": "0xbN-PSSxASA",
      "metadata": {
        "colab": {
          "base_uri": "https://localhost:8080/"
        },
        "id": "0xbN-PSSxASA",
        "outputId": "1d66b9d7-b1a8-451b-8c9e-12c33a32d20c"
      },
      "outputs": [
        {
          "data": {
            "text/plain": [
              "2"
            ]
          },
          "execution_count": 36,
          "metadata": {},
          "output_type": "execute_result"
        }
      ],
      "source": [
        "a[0]"
      ]
    },
    {
      "cell_type": "code",
      "execution_count": 37,
      "id": "v_3D44ZwxAz4",
      "metadata": {
        "colab": {
          "base_uri": "https://localhost:8080/"
        },
        "id": "v_3D44ZwxAz4",
        "outputId": "7b5dd1a4-9120-4b7c-f18c-f44db1627c7d"
      },
      "outputs": [
        {
          "data": {
            "text/plain": [
              "5"
            ]
          },
          "execution_count": 37,
          "metadata": {},
          "output_type": "execute_result"
        }
      ],
      "source": [
        "a[1]"
      ]
    },
    {
      "cell_type": "code",
      "execution_count": 38,
      "id": "GTSZXZ-qxBYf",
      "metadata": {
        "colab": {
          "base_uri": "https://localhost:8080/",
          "height": 35
        },
        "id": "GTSZXZ-qxBYf",
        "outputId": "fb958636-5254-4f10-a03f-4aac367f9ff1"
      },
      "outputs": [
        {
          "data": {
            "text/plain": [
              "'tanaka'"
            ]
          },
          "execution_count": 38,
          "metadata": {},
          "output_type": "execute_result"
        }
      ],
      "source": [
        "b[0]"
      ]
    },
    {
      "cell_type": "code",
      "execution_count": 39,
      "id": "ClNL3uobxB34",
      "metadata": {
        "colab": {
          "base_uri": "https://localhost:8080/",
          "height": 35
        },
        "id": "ClNL3uobxB34",
        "outputId": "1fac7e12-f642-4574-ba6d-880b8a02aadf"
      },
      "outputs": [
        {
          "data": {
            "text/plain": [
              "'suzuki'"
            ]
          },
          "execution_count": 39,
          "metadata": {},
          "output_type": "execute_result"
        }
      ],
      "source": [
        "b[1]"
      ]
    },
    {
      "cell_type": "code",
      "execution_count": 40,
      "id": "ujoD3KtHxCfZ",
      "metadata": {
        "colab": {
          "base_uri": "https://localhost:8080/"
        },
        "id": "ujoD3KtHxCfZ",
        "outputId": "dc26316a-1e31-4e2f-f8ca-2df8545296ea"
      },
      "outputs": [
        {
          "data": {
            "text/plain": [
              "3"
            ]
          },
          "execution_count": 40,
          "metadata": {},
          "output_type": "execute_result"
        }
      ],
      "source": [
        "d[0]"
      ]
    },
    {
      "cell_type": "code",
      "execution_count": 41,
      "id": "wG_ahqhuxDEK",
      "metadata": {
        "colab": {
          "base_uri": "https://localhost:8080/",
          "height": 35
        },
        "id": "wG_ahqhuxDEK",
        "outputId": "8b6a0efe-fa5c-4080-e8f1-71c7fbf8876a"
      },
      "outputs": [
        {
          "data": {
            "text/plain": [
              "'test'"
            ]
          },
          "execution_count": 41,
          "metadata": {},
          "output_type": "execute_result"
        }
      ],
      "source": [
        "d[1]"
      ]
    },
    {
      "cell_type": "code",
      "execution_count": 42,
      "id": "zOBFwBzJxEVG",
      "metadata": {
        "colab": {
          "base_uri": "https://localhost:8080/",
          "height": 35
        },
        "id": "zOBFwBzJxEVG",
        "outputId": "76f47d19-9717-45a7-cc30-ed0a8da767e1"
      },
      "outputs": [
        {
          "data": {
            "text/plain": [
              "'T'"
            ]
          },
          "execution_count": 42,
          "metadata": {},
          "output_type": "execute_result"
        }
      ],
      "source": [
        "e[0]"
      ]
    },
    {
      "cell_type": "code",
      "execution_count": 43,
      "id": "-SLI4KXDxEvJ",
      "metadata": {
        "colab": {
          "base_uri": "https://localhost:8080/",
          "height": 35
        },
        "id": "-SLI4KXDxEvJ",
        "outputId": "4e869cc6-5e3c-4b19-bc99-82528ae53083"
      },
      "outputs": [
        {
          "data": {
            "text/plain": [
              "'e'"
            ]
          },
          "execution_count": 43,
          "metadata": {},
          "output_type": "execute_result"
        }
      ],
      "source": [
        "e[1]"
      ]
    },
    {
      "cell_type": "code",
      "execution_count": 44,
      "id": "zCcr__g5xFbc",
      "metadata": {
        "colab": {
          "base_uri": "https://localhost:8080/"
        },
        "id": "zCcr__g5xFbc",
        "outputId": "dca65630-a4a0-4ee8-ed13-c5ff8113303d"
      },
      "outputs": [
        {
          "data": {
            "text/plain": [
              "1"
            ]
          },
          "execution_count": 44,
          "metadata": {},
          "output_type": "execute_result"
        }
      ],
      "source": [
        "f[0]"
      ]
    },
    {
      "cell_type": "code",
      "execution_count": 45,
      "id": "P-LOxWIlxF3p",
      "metadata": {
        "colab": {
          "base_uri": "https://localhost:8080/"
        },
        "id": "P-LOxWIlxF3p",
        "outputId": "018dcf01-194a-4791-d5b0-18d3ffc61267"
      },
      "outputs": [
        {
          "data": {
            "text/plain": [
              "3"
            ]
          },
          "execution_count": 45,
          "metadata": {},
          "output_type": "execute_result"
        }
      ],
      "source": [
        "f[1]"
      ]
    },
    {
      "cell_type": "code",
      "execution_count": 46,
      "id": "jI09NYpjxGnS",
      "metadata": {
        "colab": {
          "base_uri": "https://localhost:8080/"
        },
        "id": "jI09NYpjxGnS",
        "outputId": "2043023b-0cc3-478f-a47d-590e25b46251"
      },
      "outputs": [
        {
          "data": {
            "text/plain": [
              "[5, 3, 6]"
            ]
          },
          "execution_count": 46,
          "metadata": {},
          "output_type": "execute_result"
        }
      ],
      "source": [
        "a[1:4]"
      ]
    },
    {
      "cell_type": "code",
      "execution_count": 47,
      "id": "iLlyG0XNxHSm",
      "metadata": {
        "colab": {
          "base_uri": "https://localhost:8080/"
        },
        "id": "iLlyG0XNxHSm",
        "outputId": "55fe792c-0542-4ebe-86d6-5ffe5383d248"
      },
      "outputs": [
        {
          "data": {
            "text/plain": [
              "['suzuki', 'takahashi']"
            ]
          },
          "execution_count": 47,
          "metadata": {},
          "output_type": "execute_result"
        }
      ],
      "source": [
        "b[1:3]"
      ]
    },
    {
      "cell_type": "code",
      "execution_count": 48,
      "id": "2lNSPRZDxIf7",
      "metadata": {
        "colab": {
          "base_uri": "https://localhost:8080/"
        },
        "id": "2lNSPRZDxIf7",
        "outputId": "30fe4466-d397-42cd-8a6b-a771c6ff3d1f"
      },
      "outputs": [
        {
          "data": {
            "text/plain": [
              "[3, 'test', 7, 'hoge']"
            ]
          },
          "execution_count": 48,
          "metadata": {},
          "output_type": "execute_result"
        }
      ],
      "source": [
        "d[:4]"
      ]
    },
    {
      "cell_type": "code",
      "execution_count": 49,
      "id": "Za958xqCxJgR",
      "metadata": {
        "colab": {
          "base_uri": "https://localhost:8080/"
        },
        "id": "Za958xqCxJgR",
        "outputId": "808de56c-2ae6-4879-f74f-763d2dc8f7e5"
      },
      "outputs": [
        {
          "data": {
            "text/plain": [
              "['e', 'h', 'c', 'd', 'm']"
            ]
          },
          "execution_count": 49,
          "metadata": {},
          "output_type": "execute_result"
        }
      ],
      "source": [
        "e[1:10:2]"
      ]
    },
    {
      "cell_type": "code",
      "execution_count": 50,
      "id": "cab512e6",
      "metadata": {
        "colab": {
          "base_uri": "https://localhost:8080/"
        },
        "id": "cab512e6",
        "outputId": "1638d06b-e6c7-4a69-b3c0-206907427e17"
      },
      "outputs": [
        {
          "data": {
            "text/plain": [
              "[1, 5, 9]"
            ]
          },
          "execution_count": 50,
          "metadata": {},
          "output_type": "execute_result"
        }
      ],
      "source": [
        "f[::2]"
      ]
    },
    {
      "cell_type": "code",
      "execution_count": 51,
      "id": "6faec5ab",
      "metadata": {
        "colab": {
          "base_uri": "https://localhost:8080/",
          "height": 180
        },
        "id": "6faec5ab",
        "outputId": "38a834ad-c1fb-45aa-9c1a-1f11a30e5c2f"
      },
      "outputs": [
        {
          "ename": "IndexError",
          "evalue": "list index out of range",
          "output_type": "error",
          "traceback": [
            "\u001b[31m---------------------------------------------------------------------------\u001b[39m",
            "\u001b[31mIndexError\u001b[39m                                Traceback (most recent call last)",
            "\u001b[36mCell\u001b[39m\u001b[36m \u001b[39m\u001b[32mIn[51]\u001b[39m\u001b[32m, line 1\u001b[39m\n\u001b[32m----> \u001b[39m\u001b[32m1\u001b[39m \u001b[43mc\u001b[49m\u001b[43m[\u001b[49m\u001b[32;43m0\u001b[39;49m\u001b[43m]\u001b[49m\n",
            "\u001b[31mIndexError\u001b[39m: list index out of range"
          ]
        }
      ],
      "source": [
        "c[0]"
      ]
    },
    {
      "cell_type": "markdown",
      "id": "5e594aac",
      "metadata": {
        "id": "5e594aac"
      },
      "source": [
        "### リストを操作する"
      ]
    },
    {
      "cell_type": "markdown",
      "id": "i9F8VPEepGSi",
      "metadata": {
        "id": "i9F8VPEepGSi"
      },
      "source": [
        "#### 要素を追加する"
      ]
    },
    {
      "cell_type": "code",
      "execution_count": 16,
      "id": "1276416c",
      "metadata": {
        "colab": {
          "base_uri": "https://localhost:8080/"
        },
        "id": "1276416c",
        "outputId": "201b2794-0319-435f-a31b-1d5ddde83000"
      },
      "outputs": [
        {
          "data": {
            "text/plain": [
              "['apple', 'banana', 'orange', 'grape']"
            ]
          },
          "execution_count": 16,
          "metadata": {},
          "output_type": "execute_result"
        }
      ],
      "source": [
        "fruits = []\n",
        "fruits.append(\"apple\")\n",
        "fruits.append(\"banana\")\n",
        "fruits.append(\"orange\")\n",
        "fruits.append(\"grape\")\n",
        "fruits"
      ]
    },
    {
      "cell_type": "code",
      "execution_count": null,
      "id": "QmpoHDyP5f0U",
      "metadata": {
        "colab": {
          "base_uri": "https://localhost:8080/"
        },
        "id": "QmpoHDyP5f0U",
        "outputId": "dfa31a44-75ab-4f6a-8cd5-4024a358e6e6"
      },
      "outputs": [
        {
          "data": {
            "text/plain": [
              "[15.700000000000001, 18.84, 21.98, 25.12, 28.26, 31.400000000000002]"
            ]
          },
          "execution_count": 53,
          "metadata": {},
          "output_type": "execute_result"
        }
      ],
      "source": [
        "nums = [] # 空のリスト（配列）を作成して、変数numsに代入\n",
        "for i in range(5, 11): #for文：繰り返し処理を行う、range(5, 11)：5から10までの数値を生成（11は含まれない）、i：ループの各回で、上記の数値が順番に代入される変数\n",
        "    nums.append(i * 3.14) # i * 3.14：現在のiの値を3.14倍、append()：リストの末尾に値を追加するメソッド、各ループで計算結果がnumsリストに追加される\n",
        "nums"
      ]
    },
    {
      "cell_type": "code",
      "execution_count": 5,
      "id": "c1724a1a",
      "metadata": {},
      "outputs": [
        {
          "data": {
            "text/plain": [
              "[15.700000000000001, 18.84, 21.98, 25.12, 28.26, 31.400000000000002]"
            ]
          },
          "execution_count": 5,
          "metadata": {},
          "output_type": "execute_result"
        }
      ],
      "source": [
        "nums = [] \n",
        "for i in range(5, 11): \n",
        "    nums.append(i * 3.14) \n",
        "nums"
      ]
    },
    {
      "cell_type": "code",
      "execution_count": null,
      "id": "71f2b202",
      "metadata": {},
      "outputs": [
        {
          "data": {
            "text/plain": [
              "[15.700000000000001, 18.84, 21.98, 25.12, 28.26, 31.400000000000002]"
            ]
          },
          "execution_count": 4,
          "metadata": {},
          "output_type": "execute_result"
        }
      ],
      "source": [
        "nums = [i * 3.14 for i in range(5, 11)] # 上記のコードのよりシンプルな書き方\n",
        "nums\n"
      ]
    },
    {
      "cell_type": "code",
      "execution_count": 17,
      "id": "33424890",
      "metadata": {
        "colab": {
          "base_uri": "https://localhost:8080/"
        },
        "id": "33424890",
        "outputId": "0f32da28-af8d-4e4f-8f7b-b9015dffdf46"
      },
      "outputs": [
        {
          "data": {
            "text/plain": [
              "['apple', 'peach', 'banana', 'orange', 'grape']"
            ]
          },
          "execution_count": 17,
          "metadata": {},
          "output_type": "execute_result"
        }
      ],
      "source": [
        "fruits.insert(1, \"peach\")\n",
        "fruits"
      ]
    },
    {
      "cell_type": "markdown",
      "id": "a944179f",
      "metadata": {
        "id": "a944179f"
      },
      "source": [
        "#### 別のリストを連結する"
      ]
    },
    {
      "cell_type": "code",
      "execution_count": 55,
      "id": "c1a38082",
      "metadata": {
        "colab": {
          "base_uri": "https://localhost:8080/"
        },
        "id": "c1a38082",
        "outputId": "eb2db192-4254-4498-aebf-8503affaabf3"
      },
      "outputs": [
        {
          "data": {
            "text/plain": [
              "[1, 2, 3, 4, 5, 6]"
            ]
          },
          "execution_count": 55,
          "metadata": {},
          "output_type": "execute_result"
        }
      ],
      "source": [
        "num1 = [1, 2, 3]\n",
        "num2 = [4, 5, 6]\n",
        "num3 = num1 + num2\n",
        "num3"
      ]
    },
    {
      "cell_type": "code",
      "execution_count": 56,
      "id": "lnvV1tL5x-A5",
      "metadata": {
        "colab": {
          "base_uri": "https://localhost:8080/"
        },
        "id": "lnvV1tL5x-A5",
        "outputId": "7da9d151-891b-4ecc-fe9c-09bf9925efcd"
      },
      "outputs": [
        {
          "data": {
            "text/plain": [
              "[1, 2, 3, 4, 5, 6, 7, 8, 9]"
            ]
          },
          "execution_count": 56,
          "metadata": {},
          "output_type": "execute_result"
        }
      ],
      "source": [
        "num3 += [7, 8, 9]\n",
        "num3"
      ]
    },
    {
      "cell_type": "code",
      "execution_count": 57,
      "id": "73fce013",
      "metadata": {
        "colab": {
          "base_uri": "https://localhost:8080/"
        },
        "id": "73fce013",
        "outputId": "1908e9a3-4b43-4413-b2c6-b0bba9b5c426"
      },
      "outputs": [
        {
          "data": {
            "text/plain": [
              "[1, 2, 3, 1, 2, 3, 1, 2, 3]"
            ]
          },
          "execution_count": 57,
          "metadata": {},
          "output_type": "execute_result"
        }
      ],
      "source": [
        "num4 = num1 * 3\n",
        "num4"
      ]
    },
    {
      "cell_type": "code",
      "execution_count": 58,
      "id": "Fpj4t0yDyBqq",
      "metadata": {
        "colab": {
          "base_uri": "https://localhost:8080/"
        },
        "id": "Fpj4t0yDyBqq",
        "outputId": "939ba4c5-cfd0-4dfb-b8cb-83b6c14784c4"
      },
      "outputs": [
        {
          "data": {
            "text/plain": [
              "[1, 2, 3, 1, 2, 3, 1, 2, 3, 1, 2, 3, 1, 2, 3, 1, 2, 3]"
            ]
          },
          "execution_count": 58,
          "metadata": {},
          "output_type": "execute_result"
        }
      ],
      "source": [
        "num4 *= 2\n",
        "num4"
      ]
    },
    {
      "cell_type": "markdown",
      "id": "0fdb9a36",
      "metadata": {
        "id": "0fdb9a36"
      },
      "source": [
        "#### 要素の参照"
      ]
    },
    {
      "cell_type": "code",
      "execution_count": 59,
      "id": "60a1398b",
      "metadata": {
        "colab": {
          "base_uri": "https://localhost:8080/"
        },
        "id": "60a1398b",
        "outputId": "d1aacc8b-51ca-4c7c-fca1-ce7ebc3520ec"
      },
      "outputs": [
        {
          "name": "stdout",
          "output_type": "stream",
          "text": [
            "apple\n",
            "peach\n"
          ]
        }
      ],
      "source": [
        "print(fruits[0])\n",
        "print(fruits[1])"
      ]
    },
    {
      "cell_type": "code",
      "execution_count": 60,
      "id": "7gt23GtDY7kl",
      "metadata": {
        "colab": {
          "base_uri": "https://localhost:8080/",
          "height": 35
        },
        "id": "7gt23GtDY7kl",
        "outputId": "b1aed107-704c-49ef-a3c0-e627b33cacbe"
      },
      "outputs": [
        {
          "data": {
            "text/plain": [
              "'orange'"
            ]
          },
          "execution_count": 60,
          "metadata": {},
          "output_type": "execute_result"
        }
      ],
      "source": [
        "fruits[-1]"
      ]
    },
    {
      "cell_type": "code",
      "execution_count": 7,
      "id": "07HSYWka6caK",
      "metadata": {
        "colab": {
          "base_uri": "https://localhost:8080/"
        },
        "id": "07HSYWka6caK",
        "outputId": "d2fe3b47-be73-463d-95cc-87bbdfd93859"
      },
      "outputs": [
        {
          "name": "stdout",
          "output_type": "stream",
          "text": [
            "apple\n",
            "peach\n",
            "banana\n",
            "orange\n",
            "grape\n"
          ]
        }
      ],
      "source": [
        "# リストから1件ずつ表示\n",
        "for s in fruits:\n",
        "    print(s)"
      ]
    },
    {
      "cell_type": "code",
      "execution_count": 62,
      "id": "WTQAX3oJRkgy",
      "metadata": {
        "colab": {
          "base_uri": "https://localhost:8080/"
        },
        "id": "WTQAX3oJRkgy",
        "outputId": "b4a8b891-5f31-4777-c339-fd4c0f07f1aa"
      },
      "outputs": [
        {
          "name": "stdout",
          "output_type": "stream",
          "text": [
            "counter=0, s='apple'\n",
            "counter=1, s='peach'\n",
            "counter=2, s='banana'\n",
            "counter=3, s='orange'\n"
          ]
        }
      ],
      "source": [
        "counter = 0\n",
        "for s in fruits:\n",
        "    print(f\"{counter=}, {s=}\")\n",
        "    counter += 1 # インクリメントする(`counter = counter + 1`)"
      ]
    },
    {
      "cell_type": "code",
      "execution_count": 8,
      "id": "e4475025",
      "metadata": {},
      "outputs": [
        {
          "name": "stdout",
          "output_type": "stream",
          "text": [
            "counter=0, s='apple'\n",
            "counter=1, s='peach'\n",
            "counter=2, s='banana'\n",
            "counter=3, s='orange'\n",
            "counter=4, s='grape'\n"
          ]
        }
      ],
      "source": [
        "counter = 0 \n",
        "for s in fruits: \n",
        "    print(f\"{counter=}, {s=}\") \n",
        "    counter += 1 # インクリメントする(`counter = counter + 1`) \n",
        "\n",
        "# counter = 0：カウンター変数を0で初期化\n",
        "# for s in fruits:：fruitsリストの各要素を変数sに順番に代入してループ、forループ：リストの要素を順番に処理\n",
        "# print(f\"{counter=}, {s=}\")：f-string（フォーマット文字列）で現在の値を表示、f-string：文字列フォーマット（特に=記法）\n",
        "# counter += 1：カウンターを1増加（counter = counter + 1と同じ）\n",
        "# インクリメント：変数の値を1ずつ増加"
      ]
    },
    {
      "cell_type": "code",
      "execution_count": null,
      "id": "05d24dcd",
      "metadata": {},
      "outputs": [],
      "source": [
        "# {counter} → 値だけ欲しい時（ユーザー向けメッセージなど）\n",
        "# {counter=} → 変数名と値の両方欲しい時（デバッグ、開発時など）"
      ]
    },
    {
      "cell_type": "code",
      "execution_count": null,
      "id": "3053b418",
      "metadata": {},
      "outputs": [
        {
          "name": "stdout",
          "output_type": "stream",
          "text": [
            "counter=0, s='apple'\n",
            "counter=1, s='peach'\n",
            "counter=2, s='banana'\n",
            "counter=3, s='orange'\n",
            "counter=4, s='grape'\n"
          ]
        }
      ],
      "source": [
        "# よりシンプルな記載方法、enumerate()の活用\n",
        "# enumerate()は、リストなどの反復可能オブジェクトに自動的にインデックス（番号）を付けてくれる組み込み関数\n",
        "\n",
        "for counter, s in enumerate(fruits):\n",
        "    print(f\"{counter=}, {s=}\")"
      ]
    },
    {
      "cell_type": "code",
      "execution_count": 10,
      "id": "e2a8a2f2",
      "metadata": {},
      "outputs": [
        {
          "name": "stdout",
          "output_type": "stream",
          "text": [
            "[(0, 'apple'), (1, 'banana'), (2, 'orange')]\n",
            "インデックス: 0, 値: apple\n",
            "インデックス: 1, 値: banana\n",
            "インデックス: 2, 値: orange\n"
          ]
        }
      ],
      "source": [
        "fruits = [\"apple\", \"banana\", \"orange\"]\n",
        "\n",
        "# enumerate()の中身を確認\n",
        "print(list(enumerate(fruits)))\n",
        "# 出力: [(0, 'apple'), (1, 'banana'), (2, 'orange')]\n",
        "\n",
        "# forループで自動的にアンパック（展開）される\n",
        "for index, value in enumerate(fruits):\n",
        "    print(f\"インデックス: {index}, 値: {value}\")"
      ]
    },
    {
      "cell_type": "markdown",
      "id": "b2124944",
      "metadata": {
        "id": "b2124944"
      },
      "source": [
        "#### アンパック"
      ]
    },
    {
      "cell_type": "code",
      "execution_count": 11,
      "id": "71e8073d",
      "metadata": {
        "colab": {
          "base_uri": "https://localhost:8080/"
        },
        "id": "71e8073d",
        "outputId": "5f0949f1-d3ba-48e3-a39b-23611c5399fa"
      },
      "outputs": [
        {
          "name": "stdout",
          "output_type": "stream",
          "text": [
            "10\n",
            "20\n",
            "30\n"
          ]
        }
      ],
      "source": [
        "nums = [10, 20, 30]\n",
        "a, b, c = nums\n",
        "print(a)\n",
        "print(b)\n",
        "print(c)"
      ]
    },
    {
      "cell_type": "markdown",
      "id": "aec4c69f",
      "metadata": {
        "id": "aec4c69f"
      },
      "source": [
        "#### 要素の更新"
      ]
    },
    {
      "cell_type": "code",
      "execution_count": 18,
      "id": "1634568b",
      "metadata": {
        "colab": {
          "base_uri": "https://localhost:8080/"
        },
        "id": "1634568b",
        "outputId": "0fe55e07-195a-4cae-c33b-2260edb64dce"
      },
      "outputs": [
        {
          "data": {
            "text/plain": [
              "['apple', 'peach', 'strawberry', 'orange', 'grape']"
            ]
          },
          "execution_count": 18,
          "metadata": {},
          "output_type": "execute_result"
        }
      ],
      "source": [
        "fruits[2] = \"strawberry\"\n",
        "fruits"
      ]
    },
    {
      "cell_type": "code",
      "execution_count": 19,
      "id": "551050ab",
      "metadata": {
        "colab": {
          "base_uri": "https://localhost:8080/",
          "height": 180
        },
        "id": "551050ab",
        "outputId": "dc409b0c-74d4-4adb-99a4-4104e7720a43"
      },
      "outputs": [],
      "source": [
        "fruits[4] = \"lemon\""
      ]
    },
    {
      "cell_type": "code",
      "execution_count": 20,
      "id": "4ab67410",
      "metadata": {},
      "outputs": [
        {
          "data": {
            "text/plain": [
              "['apple', 'peach', 'strawberry', 'orange', 'lemon']"
            ]
          },
          "execution_count": 20,
          "metadata": {},
          "output_type": "execute_result"
        }
      ],
      "source": [
        "fruits"
      ]
    },
    {
      "cell_type": "markdown",
      "id": "e1840393",
      "metadata": {
        "id": "e1840393"
      },
      "source": [
        "#### 要素の削除\n",
        "\n",
        "リストから特定の要素を削除する(抜き取る)には `pop()`というメソッドを使います。`pop()`の引数を省略するとリストの最後尾の要素を削除します。"
      ]
    },
    {
      "cell_type": "code",
      "execution_count": 21,
      "id": "KHm_p4VxyS_n",
      "metadata": {
        "colab": {
          "base_uri": "https://localhost:8080/"
        },
        "id": "KHm_p4VxyS_n",
        "outputId": "42940f3a-4e9c-46db-cf74-261a3af65962"
      },
      "outputs": [
        {
          "data": {
            "text/plain": [
              "['apple', 'peach', 'strawberry', 'orange', 'lemon']"
            ]
          },
          "execution_count": 21,
          "metadata": {},
          "output_type": "execute_result"
        }
      ],
      "source": [
        "fruits"
      ]
    },
    {
      "cell_type": "code",
      "execution_count": 22,
      "id": "EgwW0zEhyQEH",
      "metadata": {
        "colab": {
          "base_uri": "https://localhost:8080/",
          "height": 35
        },
        "id": "EgwW0zEhyQEH",
        "outputId": "081d669f-23d4-4088-ea0e-d9ac9028ba58"
      },
      "outputs": [
        {
          "data": {
            "text/plain": [
              "'lemon'"
            ]
          },
          "execution_count": 22,
          "metadata": {},
          "output_type": "execute_result"
        }
      ],
      "source": [
        "fruits.pop()"
      ]
    },
    {
      "cell_type": "code",
      "execution_count": 23,
      "id": "a654cd20",
      "metadata": {},
      "outputs": [
        {
          "data": {
            "text/plain": [
              "['apple', 'peach', 'strawberry', 'orange']"
            ]
          },
          "execution_count": 23,
          "metadata": {},
          "output_type": "execute_result"
        }
      ],
      "source": [
        "fruits"
      ]
    },
    {
      "cell_type": "code",
      "execution_count": 24,
      "id": "jaivt5L-yQkQ",
      "metadata": {
        "colab": {
          "base_uri": "https://localhost:8080/",
          "height": 35
        },
        "id": "jaivt5L-yQkQ",
        "outputId": "d1704f9d-b879-4a56-c295-dd70446c75cb"
      },
      "outputs": [
        {
          "data": {
            "text/plain": [
              "'orange'"
            ]
          },
          "execution_count": 24,
          "metadata": {},
          "output_type": "execute_result"
        }
      ],
      "source": [
        "fruits.pop()"
      ]
    },
    {
      "cell_type": "code",
      "execution_count": 25,
      "id": "458471a4",
      "metadata": {
        "colab": {
          "base_uri": "https://localhost:8080/"
        },
        "id": "458471a4",
        "outputId": "9c3d984f-990d-436a-ac62-67e7d8cd5f00"
      },
      "outputs": [
        {
          "data": {
            "text/plain": [
              "['apple', 'peach', 'strawberry']"
            ]
          },
          "execution_count": 25,
          "metadata": {},
          "output_type": "execute_result"
        }
      ],
      "source": [
        "fruits"
      ]
    },
    {
      "cell_type": "code",
      "execution_count": 26,
      "id": "6309010d",
      "metadata": {
        "colab": {
          "base_uri": "https://localhost:8080/"
        },
        "id": "6309010d",
        "outputId": "dcada0a3-6f20-4283-caf4-ef74abdc83d7"
      },
      "outputs": [
        {
          "name": "stdout",
          "output_type": "stream",
          "text": [
            "['apple', 'peach', 'strawberry']\n",
            "strawberry\n",
            "['apple', 'peach']\n"
          ]
        }
      ],
      "source": [
        "print(fruits)\n",
        "fruit = fruits.pop()\n",
        "print(fruit)\n",
        "print(fruits)"
      ]
    },
    {
      "cell_type": "code",
      "execution_count": 71,
      "id": "iUeRp1eOtO38",
      "metadata": {
        "colab": {
          "base_uri": "https://localhost:8080/"
        },
        "id": "iUeRp1eOtO38",
        "outputId": "6a2ad2e2-59ca-445b-e682-0afb8154ecef"
      },
      "outputs": [
        {
          "data": {
            "text/plain": [
              "['apple', 'strawberry']"
            ]
          },
          "execution_count": 71,
          "metadata": {},
          "output_type": "execute_result"
        }
      ],
      "source": [
        "fruits = ['apple', 'peach', 'strawberry']\n",
        "fruits.pop(1)\n",
        "fruits"
      ]
    },
    {
      "cell_type": "code",
      "execution_count": 72,
      "id": "p1MmCFXVtik2",
      "metadata": {
        "colab": {
          "base_uri": "https://localhost:8080/"
        },
        "id": "p1MmCFXVtik2",
        "outputId": "26589065-9199-4fad-c3d6-3c937673ed4c"
      },
      "outputs": [
        {
          "data": {
            "text/plain": [
              "['apple']"
            ]
          },
          "execution_count": 72,
          "metadata": {},
          "output_type": "execute_result"
        }
      ],
      "source": [
        "fruits.pop(1)\n",
        "fruits"
      ]
    },
    {
      "cell_type": "code",
      "execution_count": 27,
      "id": "92e957ea",
      "metadata": {},
      "outputs": [
        {
          "data": {
            "text/plain": [
              "['Japanese', 'English', 'French']"
            ]
          },
          "execution_count": 27,
          "metadata": {},
          "output_type": "execute_result"
        }
      ],
      "source": [
        "languages = ['Japanese', 'English', 'French']\n",
        "languages"
      ]
    },
    {
      "cell_type": "code",
      "execution_count": 73,
      "id": "2L0QmolOuO-C",
      "metadata": {
        "colab": {
          "base_uri": "https://localhost:8080/"
        },
        "id": "2L0QmolOuO-C",
        "outputId": "d8bfe983-4095-43a7-d4bd-4eec5cf8c62b"
      },
      "outputs": [
        {
          "data": {
            "text/plain": [
              "[]"
            ]
          },
          "execution_count": 73,
          "metadata": {},
          "output_type": "execute_result"
        }
      ],
      "source": [
        "languages = ['Japanese', 'English', 'French']\n",
        "languages.clear()\n",
        "languages"
      ]
    },
    {
      "cell_type": "markdown",
      "id": "40218b51",
      "metadata": {
        "id": "40218b51"
      },
      "source": [
        "#### 要素の検索"
      ]
    },
    {
      "cell_type": "code",
      "execution_count": 74,
      "id": "PZeXxHmSs-yU",
      "metadata": {
        "id": "PZeXxHmSs-yU"
      },
      "outputs": [],
      "source": [
        "ta = list(\"TechAcademy\")"
      ]
    },
    {
      "cell_type": "markdown",
      "id": "f70321eb",
      "metadata": {
        "id": "f70321eb"
      },
      "source": [
        "##### `in`"
      ]
    },
    {
      "cell_type": "code",
      "execution_count": 75,
      "id": "MMLKD0SR0zuv",
      "metadata": {
        "colab": {
          "base_uri": "https://localhost:8080/"
        },
        "id": "MMLKD0SR0zuv",
        "outputId": "193a6ef7-82f1-4060-8be8-7b6addbd7efa"
      },
      "outputs": [
        {
          "data": {
            "text/plain": [
              "True"
            ]
          },
          "execution_count": 75,
          "metadata": {},
          "output_type": "execute_result"
        }
      ],
      "source": [
        "\"a\" in ta"
      ]
    },
    {
      "cell_type": "code",
      "execution_count": 76,
      "id": "db4661a7",
      "metadata": {
        "colab": {
          "base_uri": "https://localhost:8080/"
        },
        "id": "db4661a7",
        "outputId": "c57391fd-af86-44b4-977c-42480c6bb4c5"
      },
      "outputs": [
        {
          "data": {
            "text/plain": [
              "False"
            ]
          },
          "execution_count": 76,
          "metadata": {},
          "output_type": "execute_result"
        }
      ],
      "source": [
        "\"b\" in ta"
      ]
    },
    {
      "cell_type": "markdown",
      "id": "pQ7VHzf4s6hb",
      "metadata": {
        "id": "pQ7VHzf4s6hb"
      },
      "source": [
        "##### `count()`"
      ]
    },
    {
      "cell_type": "code",
      "execution_count": 77,
      "id": "cdabbdd8",
      "metadata": {
        "colab": {
          "base_uri": "https://localhost:8080/"
        },
        "id": "cdabbdd8",
        "outputId": "fe422709-20fe-4824-9b33-b2178ddb786e"
      },
      "outputs": [
        {
          "name": "stdout",
          "output_type": "stream",
          "text": [
            "1\n",
            "2\n",
            "0\n"
          ]
        }
      ],
      "source": [
        "print(ta.count(\"T\"))\n",
        "print(ta.count(\"e\"))\n",
        "print(ta.count(\"b\"))"
      ]
    },
    {
      "cell_type": "code",
      "execution_count": 30,
      "id": "tvPyOM3Xt5zC",
      "metadata": {
        "colab": {
          "base_uri": "https://localhost:8080/"
        },
        "id": "tvPyOM3Xt5zC",
        "outputId": "b733946f-5133-4c6f-8b6a-721f6518db3e"
      },
      "outputs": [
        {
          "data": {
            "text/plain": [
              "True"
            ]
          },
          "execution_count": 30,
          "metadata": {},
          "output_type": "execute_result"
        }
      ],
      "source": [
        "ta = list(\"TechAcademy\")\n",
        "bool(ta.count(\"T\"))\n",
        "\n",
        "# bool()は、Pythonの組み込み関数で、任意の値をブール値（True または False）に変換する関数"
      ]
    },
    {
      "cell_type": "code",
      "execution_count": null,
      "id": "cb1fd832",
      "metadata": {},
      "outputs": [
        {
          "data": {
            "text/plain": [
              "False"
            ]
          },
          "execution_count": 28,
          "metadata": {},
          "output_type": "execute_result"
        }
      ],
      "source": [
        "bool(0)          # False - 数値の0\n",
        "bool(0.0)        # False - 浮動小数点の0\n",
        "bool(\"\")         # False - 空文字列\n",
        "bool([])         # False - 空のリスト\n",
        "bool({})         # False - 空の辞書\n",
        "bool(None)       # False - None値\n",
        "bool(False)      # False - False自体\n",
        "\n",
        "#  Pythonは「空っぽ・何もない・無効」な状態をFalse、「何かある・有効」な状態をTrueとして扱う、とても直感的なルール"
      ]
    },
    {
      "cell_type": "code",
      "execution_count": null,
      "id": "a30484bd",
      "metadata": {},
      "outputs": [
        {
          "data": {
            "text/plain": [
              "True"
            ]
          },
          "execution_count": 29,
          "metadata": {},
          "output_type": "execute_result"
        }
      ],
      "source": [
        "bool(1)          # True - 0以外の数値\n",
        "bool(-1)         # True - 負の数値も真\n",
        "bool(\"hello\")    # True - 空でない文字列\n",
        "bool([1, 2])     # True - 要素がある配列\n",
        "bool({\"a\": 1})   # True - 要素がある辞書\n",
        "bool(True)       # True - True自体\n",
        "\n",
        "#  Pythonは「空っぽ・何もない・無効」な状態をFalse、「何かある・有効」な状態をTrueとして扱う、とても直感的なルール"
      ]
    },
    {
      "cell_type": "code",
      "execution_count": 79,
      "id": "2bav4bYGuWhD",
      "metadata": {
        "colab": {
          "base_uri": "https://localhost:8080/"
        },
        "id": "2bav4bYGuWhD",
        "outputId": "25085ae4-d59c-42fa-c225-4a87645032f3"
      },
      "outputs": [
        {
          "data": {
            "text/plain": [
              "True"
            ]
          },
          "execution_count": 79,
          "metadata": {},
          "output_type": "execute_result"
        }
      ],
      "source": [
        "bool(ta.count(\"e\"))"
      ]
    },
    {
      "cell_type": "code",
      "execution_count": 80,
      "id": "OfybNXyruV5f",
      "metadata": {
        "colab": {
          "base_uri": "https://localhost:8080/"
        },
        "id": "OfybNXyruV5f",
        "outputId": "21262576-6eed-4ee1-dc2a-1e4cd6c2e014"
      },
      "outputs": [
        {
          "data": {
            "text/plain": [
              "False"
            ]
          },
          "execution_count": 80,
          "metadata": {},
          "output_type": "execute_result"
        }
      ],
      "source": [
        "bool(ta.count(\"b\"))"
      ]
    },
    {
      "cell_type": "code",
      "execution_count": 81,
      "id": "j7ytVpkUu-zh",
      "metadata": {
        "colab": {
          "base_uri": "https://localhost:8080/"
        },
        "id": "j7ytVpkUu-zh",
        "outputId": "ffa55fa4-6de3-4b6f-c8f5-50cb535e647e"
      },
      "outputs": [
        {
          "name": "stdout",
          "output_type": "stream",
          "text": [
            "文字「e」はリスト['T', 'e', 'c', 'h', 'A', 'c', 'a', 'd', 'e', 'm', 'y']に2回含まれます。\n",
            "文字「x」はリスト['T', 'e', 'c', 'h', 'A', 'c', 'a', 'd', 'e', 'm', 'y']に含まれません。\n"
          ]
        }
      ],
      "source": [
        "char = \"e\" # char: **charater**から\n",
        "char_count = ta.count(char)\n",
        "if char_count: # `if char_count != 0:`と同等\n",
        "    print(f\"文字「{char}」はリスト{ta}に{char_count}回含まれます。\")\n",
        "else:\n",
        "    print(f\"文字「{char}」はリスト{ta}に含まれません。\")\n",
        "\n",
        "char = \"x\"\n",
        "char_count = ta.count(char)\n",
        "if char_count:\n",
        "    print(f\"文字「{char}」はリスト{ta}に{char_count}回含まれます。\")\n",
        "else:\n",
        "    print(f\"文字「{char}」はリスト{ta}に含まれません。\")"
      ]
    },
    {
      "cell_type": "markdown",
      "id": "2f7098b4",
      "metadata": {
        "id": "2f7098b4"
      },
      "source": [
        "##### `index()`"
      ]
    },
    {
      "cell_type": "code",
      "execution_count": 82,
      "id": "7977da49",
      "metadata": {
        "colab": {
          "base_uri": "https://localhost:8080/"
        },
        "id": "7977da49",
        "outputId": "52a7b567-0d90-447a-d6af-780ae2f4d477"
      },
      "outputs": [
        {
          "name": "stdout",
          "output_type": "stream",
          "text": [
            "0\n",
            "1\n"
          ]
        }
      ],
      "source": [
        "ta = list(\"TechAcademy\")\n",
        "print(ta.index(\"T\"))\n",
        "print(ta.index(\"e\"))"
      ]
    },
    {
      "cell_type": "code",
      "execution_count": 83,
      "id": "BHpmof6Lwpwl",
      "metadata": {
        "colab": {
          "base_uri": "https://localhost:8080/",
          "height": 180
        },
        "id": "BHpmof6Lwpwl",
        "outputId": "b2a1c2f0-ece5-40d2-c055-905e32cd5b02"
      },
      "outputs": [
        {
          "ename": "ValueError",
          "evalue": "'b' is not in list",
          "output_type": "error",
          "traceback": [
            "\u001b[31m---------------------------------------------------------------------------\u001b[39m",
            "\u001b[31mValueError\u001b[39m                                Traceback (most recent call last)",
            "\u001b[36mCell\u001b[39m\u001b[36m \u001b[39m\u001b[32mIn[83]\u001b[39m\u001b[32m, line 1\u001b[39m\n\u001b[32m----> \u001b[39m\u001b[32m1\u001b[39m \u001b[38;5;28mprint\u001b[39m(\u001b[43mta\u001b[49m\u001b[43m.\u001b[49m\u001b[43mindex\u001b[49m\u001b[43m(\u001b[49m\u001b[33;43m\"\u001b[39;49m\u001b[33;43mb\u001b[39;49m\u001b[33;43m\"\u001b[39;49m\u001b[43m)\u001b[49m)\n",
            "\u001b[31mValueError\u001b[39m: 'b' is not in list"
          ]
        }
      ],
      "source": [
        "print(ta.index(\"b\"))"
      ]
    },
    {
      "cell_type": "code",
      "execution_count": 84,
      "id": "fM-jP1v5w2Y0",
      "metadata": {
        "colab": {
          "base_uri": "https://localhost:8080/"
        },
        "id": "fM-jP1v5w2Y0",
        "outputId": "6ac24e8f-65ab-4a7e-c6d8-d087f76eee84"
      },
      "outputs": [
        {
          "name": "stdout",
          "output_type": "stream",
          "text": [
            "None\n"
          ]
        }
      ],
      "source": [
        "char = \"b\"\n",
        "if char in ta:\n",
        "    print(ta.index(char))\n",
        "else:\n",
        "    print(None)"
      ]
    },
    {
      "cell_type": "code",
      "execution_count": 32,
      "id": "868847e3",
      "metadata": {},
      "outputs": [
        {
          "name": "stdout",
          "output_type": "stream",
          "text": [
            "None\n"
          ]
        }
      ],
      "source": [
        "char = \"b\"\n",
        "if char in ta:\n",
        "    print(ta.index(char))\n",
        "else:\n",
        "    print(None)\n",
        "\n",
        "# char = \"b\" 変数charに文字列\"b\"を代入\n",
        "# if char in ta: in演算子を使って、char（\"b\"）がtaという変数の中に含まれているかチェック、taはリスト・文字列・タプルなどのシーケンス型である必要があります\n",
        "# print(ta.index(char)) 条件が真の場合（\"b\"がtaに含まれている場合）、index()メソッドで\"b\"が最初に見つかった位置（インデックス）を取得して出力\n",
        "# print(None) 条件が偽の場合（\"b\"がtaに含まれていない場合）、Noneを出力"
      ]
    },
    {
      "cell_type": "markdown",
      "id": "53a2d2dd",
      "metadata": {
        "id": "53a2d2dd"
      },
      "source": [
        "#### 要素の並び替え\n",
        "\n",
        "##### `sort()` メソッド"
      ]
    },
    {
      "cell_type": "code",
      "execution_count": 85,
      "id": "w-pRWAWV04Be",
      "metadata": {
        "colab": {
          "base_uri": "https://localhost:8080/"
        },
        "id": "w-pRWAWV04Be",
        "outputId": "026a1307-b1d3-4af3-9b0f-54418d4c188e"
      },
      "outputs": [
        {
          "data": {
            "text/plain": [
              "[4, 7, 1, 6, 3, 2, 5]"
            ]
          },
          "execution_count": 85,
          "metadata": {},
          "output_type": "execute_result"
        }
      ],
      "source": [
        "nums = [4, 7, 1, 6, 3, 2, 5]\n",
        "nums"
      ]
    },
    {
      "cell_type": "code",
      "execution_count": 86,
      "id": "KPt3dC4505fz",
      "metadata": {
        "colab": {
          "base_uri": "https://localhost:8080/"
        },
        "id": "KPt3dC4505fz",
        "outputId": "cf016021-01b6-43f7-8945-cd5035540872"
      },
      "outputs": [
        {
          "data": {
            "text/plain": [
              "[1, 2, 3, 4, 5, 6, 7]"
            ]
          },
          "execution_count": 86,
          "metadata": {},
          "output_type": "execute_result"
        }
      ],
      "source": [
        "nums.sort()\n",
        "nums"
      ]
    },
    {
      "cell_type": "code",
      "execution_count": 87,
      "id": "70947a57",
      "metadata": {
        "colab": {
          "base_uri": "https://localhost:8080/"
        },
        "id": "70947a57",
        "outputId": "06e54116-149b-4eee-9788-cc950414cb66"
      },
      "outputs": [
        {
          "data": {
            "text/plain": [
              "[7, 6, 5, 4, 3, 2, 1]"
            ]
          },
          "execution_count": 87,
          "metadata": {},
          "output_type": "execute_result"
        }
      ],
      "source": [
        "nums.reverse()\n",
        "nums"
      ]
    },
    {
      "cell_type": "code",
      "execution_count": 34,
      "id": "df0lmCZ01AXf",
      "metadata": {
        "colab": {
          "base_uri": "https://localhost:8080/"
        },
        "id": "df0lmCZ01AXf",
        "outputId": "7d50a112-92fc-4d87-f408-f7a400e39afa"
      },
      "outputs": [
        {
          "data": {
            "text/plain": [
              "['orange', 'banana', 'peach', 'apple', 'grape']"
            ]
          },
          "execution_count": 34,
          "metadata": {},
          "output_type": "execute_result"
        }
      ],
      "source": [
        "fruits = [\"orange\", \"banana\", \"peach\", \"apple\", \"grape\"]\n",
        "fruits"
      ]
    },
    {
      "cell_type": "code",
      "execution_count": 35,
      "id": "WGLPv0RJ1BSJ",
      "metadata": {
        "colab": {
          "base_uri": "https://localhost:8080/"
        },
        "id": "WGLPv0RJ1BSJ",
        "outputId": "19a3b36d-2e70-4cd3-e35e-f7dba252accf"
      },
      "outputs": [
        {
          "data": {
            "text/plain": [
              "['apple', 'banana', 'grape', 'orange', 'peach']"
            ]
          },
          "execution_count": 35,
          "metadata": {},
          "output_type": "execute_result"
        }
      ],
      "source": [
        "fruits.sort()\n",
        "fruits"
      ]
    },
    {
      "cell_type": "code",
      "execution_count": 36,
      "id": "Y_BRFt-k1Cfy",
      "metadata": {
        "colab": {
          "base_uri": "https://localhost:8080/"
        },
        "id": "Y_BRFt-k1Cfy",
        "outputId": "a33951d8-5aaa-4d70-ac9d-524b7f58024d"
      },
      "outputs": [
        {
          "data": {
            "text/plain": [
              "['peach', 'orange', 'grape', 'banana', 'apple']"
            ]
          },
          "execution_count": 36,
          "metadata": {},
          "output_type": "execute_result"
        }
      ],
      "source": [
        "fruits.reverse()\n",
        "fruits"
      ]
    },
    {
      "cell_type": "markdown",
      "id": "5db8c88b",
      "metadata": {
        "id": "5db8c88b"
      },
      "source": [
        "##### `sorted()` 関数"
      ]
    },
    {
      "cell_type": "code",
      "execution_count": 91,
      "id": "lujkAAv81XYl",
      "metadata": {
        "id": "lujkAAv81XYl"
      },
      "outputs": [],
      "source": [
        "nums = [4, 7, 1, 6, 3, 2, 5]"
      ]
    },
    {
      "cell_type": "code",
      "execution_count": null,
      "id": "ect7ekdh1HZS",
      "metadata": {
        "colab": {
          "base_uri": "https://localhost:8080/"
        },
        "id": "ect7ekdh1HZS",
        "outputId": "a8e19c5c-b112-4f28-cf81-c914a68b4c6b"
      },
      "outputs": [
        {
          "name": "stdout",
          "output_type": "stream",
          "text": [
            "[4, 7, 1, 6, 3, 2, 5]\n",
            "[1, 2, 3, 4, 5, 6, 7]\n"
          ]
        }
      ],
      "source": [
        "nums2 = sorted(nums)\n",
        "print(nums)\n",
        "print(nums2)\n",
        "\n",
        "# sorted(nums): 現在のnumsリストの要素を昇順にソートした新しいリストを作成\n",
        "# nums2 = : その新しいソート済みリストを変数nums2に代入 ※元のnumsは一切変更されません"
      ]
    },
    {
      "cell_type": "code",
      "execution_count": 37,
      "id": "700c401b",
      "metadata": {},
      "outputs": [
        {
          "name": "stdout",
          "output_type": "stream",
          "text": [
            "初期状態: [4, 7, 1, 6, 3, 2, 5]\n",
            "sort()後: [1, 2, 3, 4, 5, 6, 7]\n",
            "reverse()後: [7, 6, 5, 4, 3, 2, 1]\n",
            "元のnums: [7, 6, 5, 4, 3, 2, 1]\n",
            "新しいnums2: [1, 2, 3, 4, 5, 6, 7]\n"
          ]
        }
      ],
      "source": [
        "nums = [4, 7, 1, 6, 3, 2, 5]\n",
        "print(\"初期状態:\", nums)  # [4, 7, 1, 6, 3, 2, 5]\n",
        "\n",
        "# 1. sort() - 昇順にソート（元のリストを変更）\n",
        "nums.sort()\n",
        "print(\"sort()後:\", nums)  # [1, 2, 3, 4, 5, 6, 7]\n",
        "\n",
        "# 2. reverse() - 順序を逆転（元のリストを変更）\n",
        "nums.reverse()\n",
        "print(\"reverse()後:\", nums)  # [7, 6, 5, 4, 3, 2, 1]\n",
        "\n",
        "# 3. sorted() - 新しいソート済みリストを作成\n",
        "nums2 = sorted(nums)\n",
        "print(\"元のnums:\", nums)   # [7, 6, 5, 4, 3, 2, 1] (変更されない)\n",
        "print(\"新しいnums2:\", nums2)  # [1, 2, 3, 4, 5, 6, 7]"
      ]
    },
    {
      "cell_type": "code",
      "execution_count": 93,
      "id": "efb738fe",
      "metadata": {
        "colab": {
          "base_uri": "https://localhost:8080/"
        },
        "id": "efb738fe",
        "outputId": "874192c6-a504-4f4f-f8ab-50866a11cecd"
      },
      "outputs": [
        {
          "name": "stdout",
          "output_type": "stream",
          "text": [
            "[4, 7, 1, 6, 3, 2, 5]\n",
            "[7, 6, 5, 4, 3, 2, 1]\n"
          ]
        }
      ],
      "source": [
        "nums3 = sorted(nums, reverse=True)\n",
        "print(nums)\n",
        "print(nums3)"
      ]
    },
    {
      "cell_type": "code",
      "execution_count": null,
      "id": "e764af3e",
      "metadata": {},
      "outputs": [],
      "source": [
        "sorted() = 「昇順に並べ替えなさい」（デフォルト）\n",
        "sorted(data, reverse=True) = 「降順に並べ替えなさい」\n",
        "sorted(data, key=関数) = 「指定した基準で並べ替えなさい」"
      ]
    },
    {
      "cell_type": "markdown",
      "id": "bd0ece61",
      "metadata": {
        "id": "bd0ece61"
      },
      "source": [
        "## リストの内包表記"
      ]
    },
    {
      "cell_type": "markdown",
      "id": "L6YSkuUP3VXI",
      "metadata": {
        "id": "L6YSkuUP3VXI"
      },
      "source": [
        "### 内包表記の概要"
      ]
    },
    {
      "cell_type": "code",
      "execution_count": 94,
      "id": "gxvR_AH49QzE",
      "metadata": {
        "colab": {
          "base_uri": "https://localhost:8080/"
        },
        "id": "gxvR_AH49QzE",
        "outputId": "b96c0e5f-1959-4feb-efea-c1578db7e666"
      },
      "outputs": [
        {
          "data": {
            "text/plain": [
              "[15.700000000000001, 18.84, 21.98, 25.12, 28.26, 31.400000000000002]"
            ]
          },
          "execution_count": 94,
          "metadata": {},
          "output_type": "execute_result"
        }
      ],
      "source": [
        "nums = []\n",
        "for i in range(5, 11): # 5から11-1までの整数\n",
        "    nums.append(i * 3.14) # iを3.14倍したもの\n",
        "\n",
        "nums"
      ]
    },
    {
      "cell_type": "code",
      "execution_count": 95,
      "id": "45b03987",
      "metadata": {
        "colab": {
          "base_uri": "https://localhost:8080/"
        },
        "id": "45b03987",
        "outputId": "6d5e12b8-3f91-460c-998e-2e118c20d226"
      },
      "outputs": [
        {
          "data": {
            "text/plain": [
              "[15.700000000000001, 18.84, 21.98, 25.12, 28.26, 31.400000000000002]"
            ]
          },
          "execution_count": 95,
          "metadata": {},
          "output_type": "execute_result"
        }
      ],
      "source": [
        "nums_oneline = [i * 3.14 for i in range(5, 11)]\n",
        "nums_oneline"
      ]
    },
    {
      "cell_type": "code",
      "execution_count": null,
      "id": "7ea70f5e",
      "metadata": {},
      "outputs": [],
      "source": [
        "# 学習用メモ\n",
        "# コード1 従来のfor文：複数行で段階的に処理を記述、num=[]でリストオブジェクトを（わざわざ）作成し、その下でnumsを定義して計算させ、numsを出力\n",
        "nums = []\n",
        "for i in range(5, 11): # 5から11-1までの整数\n",
        "    nums.append(i * 3.14) # iを3.14倍したもの\n",
        "\n",
        "nums\n",
        "\n",
        "\n",
        "# コード2　リスト内包表記：1行で簡潔に記述、リストの始まりと終わりを示す[] のなかで、for 文による処理を定義している\n",
        "nums_oneline = [i * 3.14 for i in range(5, 11)]\n",
        "nums_oneline"
      ]
    },
    {
      "cell_type": "code",
      "execution_count": 96,
      "id": "AJ9kinwP_Gj3",
      "metadata": {
        "id": "AJ9kinwP_Gj3"
      },
      "outputs": [],
      "source": [
        "math_numbers = [3.1415926535897, 2.71828182846, 1.618033988749894848204]"
      ]
    },
    {
      "cell_type": "code",
      "execution_count": 97,
      "id": "BAznryBEAdEp",
      "metadata": {
        "colab": {
          "base_uri": "https://localhost:8080/"
        },
        "id": "BAznryBEAdEp",
        "outputId": "151e06ad-49c1-4f58-8952-1c8e0da50a76"
      },
      "outputs": [
        {
          "data": {
            "text/plain": [
              "[3.142, 2.718, 1.618]"
            ]
          },
          "execution_count": 97,
          "metadata": {},
          "output_type": "execute_result"
        }
      ],
      "source": [
        "# 新しいリストを定義する\n",
        "math_numers_new = []\n",
        "for num in math_numbers:\n",
        "    math_numers_new.append(round(num, 3)) # 四捨五入した結果を新しいリストに格納する\n",
        "math_numbers = math_numers_new # 元のリストを新しいリストで上書きする\n",
        "math_numbers"
      ]
    },
    {
      "cell_type": "code",
      "execution_count": 98,
      "id": "c01OfQshA4Dk",
      "metadata": {
        "colab": {
          "base_uri": "https://localhost:8080/"
        },
        "id": "c01OfQshA4Dk",
        "outputId": "2d8b7156-3ed4-4bfa-c2d9-22c5a45e501a"
      },
      "outputs": [
        {
          "data": {
            "text/plain": [
              "[3.142, 2.718, 1.618]"
            ]
          },
          "execution_count": 98,
          "metadata": {},
          "output_type": "execute_result"
        }
      ],
      "source": [
        "math_numbers = [round(num, 3) for num in math_numbers]\n",
        "math_numbers"
      ]
    },
    {
      "cell_type": "markdown",
      "id": "02fe0081",
      "metadata": {
        "id": "02fe0081"
      },
      "source": [
        "### 内包表記でifを使う"
      ]
    },
    {
      "cell_type": "code",
      "execution_count": 1,
      "id": "4e350e12",
      "metadata": {
        "colab": {
          "base_uri": "https://localhost:8080/"
        },
        "id": "4e350e12",
        "outputId": "f4f3a9e5-9019-4ecc-d931-1906bc88fbf2"
      },
      "outputs": [
        {
          "data": {
            "text/plain": [
              "[0, 2, 4, 6, 8, 10]"
            ]
          },
          "execution_count": 1,
          "metadata": {},
          "output_type": "execute_result"
        }
      ],
      "source": [
        "num4 = [i for i in range(11) if i % 2 == 0]\n",
        "num4"
      ]
    },
    {
      "cell_type": "code",
      "execution_count": 2,
      "id": "e27deb8d",
      "metadata": {
        "colab": {
          "base_uri": "https://localhost:8080/"
        },
        "id": "e27deb8d",
        "outputId": "15394ba5-51dc-46bb-b8e3-f5b3f51a8f00"
      },
      "outputs": [
        {
          "data": {
            "text/plain": [
              "[0, 6]"
            ]
          },
          "execution_count": 2,
          "metadata": {},
          "output_type": "execute_result"
        }
      ],
      "source": [
        "num4 = [i for i in range(11) if i % 2 == 0 and i % 3 == 0]\n",
        "num4"
      ]
    },
    {
      "cell_type": "markdown",
      "id": "fbac1d7e",
      "metadata": {
        "id": "fbac1d7e"
      },
      "source": [
        "### 内包表記でif-elseを使う"
      ]
    },
    {
      "cell_type": "code",
      "execution_count": 3,
      "id": "0c2d218c",
      "metadata": {},
      "outputs": [
        {
          "data": {
            "text/plain": [
              "[0, 6]"
            ]
          },
          "execution_count": 3,
          "metadata": {},
          "output_type": "execute_result"
        }
      ],
      "source": [
        "num4"
      ]
    },
    {
      "cell_type": "code",
      "execution_count": 6,
      "id": "ae28fb87",
      "metadata": {},
      "outputs": [
        {
          "data": {
            "text/plain": [
              "[0, 1, 2, 3, 4, 5, 6, 7, 8, 9, 10]"
            ]
          },
          "execution_count": 6,
          "metadata": {},
          "output_type": "execute_result"
        }
      ],
      "source": [
        "num4 = [i for i in range(11)]\n",
        "num4"
      ]
    },
    {
      "cell_type": "code",
      "execution_count": 7,
      "id": "04cfe4c4",
      "metadata": {
        "colab": {
          "base_uri": "https://localhost:8080/"
        },
        "id": "04cfe4c4",
        "outputId": "aca7d506-b8b9-40ed-f9e6-2b22cd529d1f"
      },
      "outputs": [
        {
          "data": {
            "text/plain": [
              "['even',\n",
              " 'odd',\n",
              " 'even',\n",
              " 'odd',\n",
              " 'even',\n",
              " 'odd',\n",
              " 'even',\n",
              " 'odd',\n",
              " 'even',\n",
              " 'odd',\n",
              " 'even']"
            ]
          },
          "execution_count": 7,
          "metadata": {},
          "output_type": "execute_result"
        }
      ],
      "source": [
        "num4 = [\"even\" if i % 2 == 0 else \"odd\" for i in range(11)]\n",
        "num4"
      ]
    },
    {
      "cell_type": "code",
      "execution_count": null,
      "id": "1d948de0",
      "metadata": {
        "colab": {
          "base_uri": "https://localhost:8080/"
        },
        "id": "1d948de0",
        "outputId": "f292646d-b4b8-4b62-93d1-8c73f147cc74"
      },
      "outputs": [
        {
          "data": {
            "text/plain": [
              "['low', 'low', 'low', 'mid', 'mid', 'mid', 'mid', 'mid', 'hi', 'hi', 'hi']"
            ]
          },
          "execution_count": 8,
          "metadata": {},
          "output_type": "execute_result"
        }
      ],
      "source": [
        "num5 = [\"low\" if i < 3 else \"mid\" if i < 8 else \"hi\" for i in range(11)]\n",
        "num5\n",
        "\n",
        "# elif は内包表記で利用できませんので、3つ以上の分岐を内包表記の記述方法で実現したい場合は else 句の中に if を記述する"
      ]
    },
    {
      "cell_type": "code",
      "execution_count": null,
      "id": "90ac6753",
      "metadata": {},
      "outputs": [
        {
          "name": "stdout",
          "output_type": "stream",
          "text": [
            "num4: ['even', 'odd', 'even', 'odd', 'even', 'odd', 'even', 'odd', 'even', 'odd', 'even']\n",
            "num5: ['low', 'low', 'low', 'mid', 'mid', 'mid', 'mid', 'mid', 'hi', 'hi', 'hi']\n"
          ]
        }
      ],
      "source": [
        "# 学習用メモ\n",
        "# 両方とも同じ形式で出力されるはず\n",
        "num4 = [\"even\" if i % 2 == 0 else \"odd\" for i in range(11)]\n",
        "num5 = [\"low\" if i < 3 else \"mid\" if i < 8 else \"hi\" for i in range(11)]\n",
        "\n",
        "print(\"num4:\", num4)\n",
        "print(\"num5:\", num5)"
      ]
    },
    {
      "cell_type": "code",
      "execution_count": 103,
      "id": "lo_XbrKdoR-V",
      "metadata": {
        "colab": {
          "base_uri": "https://localhost:8080/"
        },
        "id": "lo_XbrKdoR-V",
        "outputId": "17103a16-49e4-4be4-d085-78bea1de372a"
      },
      "outputs": [
        {
          "data": {
            "text/plain": [
              "['low', 'low', 'low', 'mid', 'mid', 'mid', 'mid', 'mid', 'hi', 'hi', 'hi']"
            ]
          },
          "execution_count": 103,
          "metadata": {},
          "output_type": "execute_result"
        }
      ],
      "source": [
        "def number_to_degree(i):\n",
        "    if i < 3:\n",
        "        return \"low\"\n",
        "    else:\n",
        "        if i < 8:\n",
        "            return \"mid\"\n",
        "        else:\n",
        "            return \"hi\"\n",
        "\n",
        "num5_alt = [number_to_degree(i) for i in range(11)]\n",
        "num5_alt"
      ]
    },
    {
      "cell_type": "markdown",
      "id": "7ed9ce0f",
      "metadata": {
        "id": "7ed9ce0f"
      },
      "source": [
        "## 2次元リスト"
      ]
    },
    {
      "cell_type": "code",
      "execution_count": 104,
      "id": "SKer9l-v12f9",
      "metadata": {
        "colab": {
          "base_uri": "https://localhost:8080/"
        },
        "id": "SKer9l-v12f9",
        "outputId": "932524dd-656f-4029-fafa-2d2fc37f679b"
      },
      "outputs": [
        {
          "data": {
            "text/plain": [
              "[[1, 2, 3], [4, 5, 6], [7, 8, 9], [10, 11, 12]]"
            ]
          },
          "execution_count": 104,
          "metadata": {},
          "output_type": "execute_result"
        }
      ],
      "source": [
        "list_2d = [[1, 2, 3], [4, 5, 6], [7, 8, 9], [10, 11, 12]]\n",
        "list_2d"
      ]
    },
    {
      "cell_type": "code",
      "execution_count": 105,
      "id": "WbFWivou1aSm",
      "metadata": {
        "colab": {
          "base_uri": "https://localhost:8080/"
        },
        "id": "WbFWivou1aSm",
        "outputId": "c3132015-1ee1-45b5-b06b-869dec7c4219"
      },
      "outputs": [
        {
          "data": {
            "text/plain": [
              "[[1, 2, 3], [4, 5, 6], [7, 8, 9], [10, 11, 12]]"
            ]
          },
          "execution_count": 105,
          "metadata": {},
          "output_type": "execute_result"
        }
      ],
      "source": [
        "list_2d = [\n",
        "    [1, 2, 3],\n",
        "    [4, 5, 6],\n",
        "    [7, 8, 9],\n",
        "    [10, 11, 12]\n",
        "]\n",
        "list_2d"
      ]
    },
    {
      "cell_type": "code",
      "execution_count": 106,
      "id": "9oQzc7Y715TN",
      "metadata": {
        "colab": {
          "base_uri": "https://localhost:8080/"
        },
        "id": "9oQzc7Y715TN",
        "outputId": "e8d47d35-a0fa-49da-b150-c4363eae017d"
      },
      "outputs": [
        {
          "data": {
            "text/plain": [
              "1"
            ]
          },
          "execution_count": 106,
          "metadata": {},
          "output_type": "execute_result"
        }
      ],
      "source": [
        "list_2d[0][0]"
      ]
    },
    {
      "cell_type": "code",
      "execution_count": 107,
      "id": "J9ID5gIy16WU",
      "metadata": {
        "colab": {
          "base_uri": "https://localhost:8080/"
        },
        "id": "J9ID5gIy16WU",
        "outputId": "6f52a338-7f87-4a1c-eeb5-0e25a0caae70"
      },
      "outputs": [
        {
          "data": {
            "text/plain": [
              "5"
            ]
          },
          "execution_count": 107,
          "metadata": {},
          "output_type": "execute_result"
        }
      ],
      "source": [
        "list_2d[1][1]"
      ]
    },
    {
      "cell_type": "code",
      "execution_count": 108,
      "id": "jwPn49ji17Mr",
      "metadata": {
        "colab": {
          "base_uri": "https://localhost:8080/"
        },
        "id": "jwPn49ji17Mr",
        "outputId": "a9bbaaef-df7d-4b1c-a33f-e5208d369b8b"
      },
      "outputs": [
        {
          "data": {
            "text/plain": [
              "12"
            ]
          },
          "execution_count": 108,
          "metadata": {},
          "output_type": "execute_result"
        }
      ],
      "source": [
        "list_2d[3][2]"
      ]
    },
    {
      "cell_type": "code",
      "execution_count": 10,
      "id": "866b3d22",
      "metadata": {
        "colab": {
          "base_uri": "https://localhost:8080/"
        },
        "id": "866b3d22",
        "outputId": "9094888d-3807-495d-83b7-5ef13ee8d37a"
      },
      "outputs": [
        {
          "name": "stdout",
          "output_type": "stream",
          "text": [
            "1次元リスト: [1, 2, 3]\n",
            "1\n",
            "2\n",
            "3\n",
            "1次元リスト: [4, 5, 6]\n",
            "4\n",
            "5\n",
            "6\n",
            "1次元リスト: [7, 8, 9]\n",
            "7\n",
            "8\n",
            "9\n",
            "1次元リスト: [10, 11, 12]\n",
            "10\n",
            "11\n",
            "12\n"
          ]
        }
      ],
      "source": [
        "list_2d = [[1, 2, 3], [4, 5, 6], [7, 8, 9], [10, 11, 12]]\n",
        "for list_1d in list_2d:\n",
        "    print(\"1次元リスト:\", list_1d)\n",
        "    for num in list_1d:\n",
        "        print(num)"
      ]
    },
    {
      "cell_type": "code",
      "execution_count": 11,
      "id": "009cff1e",
      "metadata": {},
      "outputs": [
        {
          "name": "stdout",
          "output_type": "stream",
          "text": [
            "1次元リスト: [1, 2, 3]\n",
            "1\n",
            "2\n",
            "3\n",
            "1次元リスト: [4, 5, 6]\n",
            "4\n",
            "5\n",
            "6\n",
            "1次元リスト: [7, 8, 9]\n",
            "7\n",
            "8\n",
            "9\n",
            "1次元リスト: [10, 11, 12]\n",
            "10\n",
            "11\n",
            "12\n"
          ]
        }
      ],
      "source": [
        "# 学習用メモ\n",
        "\n",
        "list_2d = [[1, 2, 3], [4, 5, 6], [7, 8, 9], [10, 11, 12]] # 2次元リストの定義：list_2dは2次元リスト（リストの中にリストが入っている構造）\n",
        "for list_1d in list_2d:  # list_2dの各要素（1次元リスト）を順番に取り出す、list_1dには[1, 2, 3]、[4, 5, 6]、[7, 8, 9]、[10, 11, 12]が順番に入る\n",
        "    print(\"1次元リスト:\", list_1d)  \n",
        "    for num in list_1d:  # 取り出した1次元リストlist_1dの各要素（数値）を順番に取り出す、numには各リストの数値が順番に入る\n",
        "        print(num)"
      ]
    },
    {
      "cell_type": "code",
      "execution_count": 12,
      "id": "cdc39adb",
      "metadata": {},
      "outputs": [
        {
          "name": "stdout",
          "output_type": "stream",
          "text": [
            "生徒名: 田中\n",
            "  点数: 85\n",
            "  点数: 92\n",
            "  点数: 78\n",
            "生徒名: 佐藤\n",
            "  点数: 90\n",
            "  点数: 88\n",
            "  点数: 95\n",
            "生徒名: 鈴木\n",
            "  点数: 76\n",
            "  点数: 82\n",
            "  点数: 89\n"
          ]
        }
      ],
      "source": [
        "# 活用サンプル\n",
        "\n",
        "grades = [[\"田中\", 85, 92, 78], [\"佐藤\", 90, 88, 95], [\"鈴木\", 76, 82, 89]]\n",
        "for student in grades:\n",
        "    print(f\"生徒名: {student[0]}\")\n",
        "    for score in student[1:]:  # 名前以外の成績\n",
        "        print(f\"  点数: {score}\")"
      ]
    },
    {
      "cell_type": "code",
      "execution_count": 14,
      "id": "32cc7429",
      "metadata": {},
      "outputs": [
        {
          "name": "stdout",
          "output_type": "stream",
          "text": [
            "生徒名: 田中\n",
            "  点数: 85\n",
            "  点数: 92\n",
            "  点数: 78\n",
            "生徒名: 佐藤\n",
            "  点数: 90\n",
            "  点数: 88\n",
            "  点数: 95\n",
            "生徒名: 鈴木\n",
            "  点数: 76\n",
            "  点数: 82\n",
            "  点数: 89\n"
          ]
        }
      ],
      "source": [
        "# 活用サンプル\n",
        "\n",
        "grades = [[\"田中\", 85, 92, 78], [\"佐藤\", 90, 88, 95], [\"鈴木\", 76, 82, 89]]  # リストには文字列と数値など異なる型を混在させることができる\n",
        "for student in grades:\n",
        "    print(f\"生徒名: {student[0]}\")  # 一次リストの中で、インデックス0 = 生徒名（文字列）として、インデックス0を呼び出して「生徒名」として表示している\n",
        "    for score in student[1:]:  # インデックス1 = 1教科目の点数（数値）、インデックス2 = 2教科目の点数（数値）、インデックス3 = 3教科目の点数（数値）をscoreに代入\n",
        "        print(f\"  点数: {score}\")"
      ]
    },
    {
      "cell_type": "code",
      "execution_count": 15,
      "id": "dedc7027",
      "metadata": {},
      "outputs": [
        {
          "data": {
            "text/plain": [
              "['b', 'a', 's', 'e', 'b', 'a', 'l', 'l']"
            ]
          },
          "execution_count": 15,
          "metadata": {},
          "output_type": "execute_result"
        }
      ],
      "source": [
        "sports = list(\"baseball\")\n",
        "sports"
      ]
    },
    {
      "cell_type": "code",
      "execution_count": 110,
      "id": "449efa1d",
      "metadata": {
        "colab": {
          "base_uri": "https://localhost:8080/"
        },
        "id": "449efa1d",
        "outputId": "d065e1ee-13e5-42d9-e782-cb0bfd9120fa"
      },
      "outputs": [
        {
          "data": {
            "text/plain": [
              "[['b', 'a', 's', 'e', 'b', 'a', 'l', 'l'],\n",
              " ['s', 'o', 'c', 'c', 'e', 'r'],\n",
              " ['g', 'o', 'l', 'f'],\n",
              " ['v', 'o', 'l', 'l', 'e', 'y', 'b', 'a', 'l', 'l'],\n",
              " ['t', 'e', 'n', 'n', 'i', 's']]"
            ]
          },
          "execution_count": 110,
          "metadata": {},
          "output_type": "execute_result"
        }
      ],
      "source": [
        "sports = [list(\"baseball\"), list(\"soccer\"), list(\"golf\"), list(\"volleyball\"), list(\"tennis\")]\n",
        "sports"
      ]
    },
    {
      "cell_type": "code",
      "execution_count": 17,
      "id": "311d496a",
      "metadata": {},
      "outputs": [
        {
          "data": {
            "text/plain": [
              "[0, 1, 2, 3, 4, 5, 6, 7, 8, 9, 10]"
            ]
          },
          "execution_count": 17,
          "metadata": {},
          "output_type": "execute_result"
        }
      ],
      "source": [
        "list = [x for x in range(11)]\n",
        "list"
      ]
    },
    {
      "cell_type": "code",
      "execution_count": 111,
      "id": "bb093536",
      "metadata": {
        "colab": {
          "base_uri": "https://localhost:8080/"
        },
        "id": "bb093536",
        "outputId": "2beb7812-eb00-49d9-a83f-205ecba7bfb3"
      },
      "outputs": [
        {
          "data": {
            "text/plain": [
              "[[0, 1, 2, 3, 4, 5, 6, 7, 8, 9, 10],\n",
              " [1, 2, 3, 4, 5, 6, 7, 8, 9, 10, 11],\n",
              " [2, 3, 4, 5, 6, 7, 8, 9, 10, 11, 12],\n",
              " [3, 4, 5, 6, 7, 8, 9, 10, 11, 12, 13],\n",
              " [4, 5, 6, 7, 8, 9, 10, 11, 12, 13, 14],\n",
              " [5, 6, 7, 8, 9, 10, 11, 12, 13, 14, 15],\n",
              " [6, 7, 8, 9, 10, 11, 12, 13, 14, 15, 16],\n",
              " [7, 8, 9, 10, 11, 12, 13, 14, 15, 16, 17],\n",
              " [8, 9, 10, 11, 12, 13, 14, 15, 16, 17, 18],\n",
              " [9, 10, 11, 12, 13, 14, 15, 16, 17, 18, 19],\n",
              " [10, 11, 12, 13, 14, 15, 16, 17, 18, 19, 20]]"
            ]
          },
          "execution_count": 111,
          "metadata": {},
          "output_type": "execute_result"
        }
      ],
      "source": [
        "list_add = [[(x + y) for y in range(11)] for x in range(11)]\n",
        "list_add"
      ]
    },
    {
      "cell_type": "code",
      "execution_count": null,
      "id": "d9cffeb5",
      "metadata": {},
      "outputs": [],
      "source": [
        "# 学習用メモ\n",
        "\n",
        "list_add = [[(x + y) for y in range(11)] for x in range(11)]\n",
        "list_add\n",
        "\n",
        "# 内側の部分：[(x + y) for y in range(11)]、yが0から10まで変化する間、それぞれに対して(x + y)を計算、xの値は外側のループから与えられる\n",
        "# 外側の部分：xが0から10まで変化、各xに対して、内側のリスト内包表記が実行される\n",
        "# 外側から内側に向かって実行される"
      ]
    },
    {
      "cell_type": "code",
      "execution_count": 18,
      "id": "dee77fbb",
      "metadata": {
        "colab": {
          "base_uri": "https://localhost:8080/"
        },
        "id": "dee77fbb",
        "outputId": "6705a17e-45f1-4c96-c995-cd33fe449e6a"
      },
      "outputs": [
        {
          "name": "stdout",
          "output_type": "stream",
          "text": [
            "[[0, 1, 2, 3, 4, 5, 6, 7, 8, 9, 10], [1, 2, 3, 4, 5, 6, 7, 8, 9, 10, 11], [2, 3, 4, 5, 6, 7, 8, 9, 10, 11, 12], [3, 4, 5, 6, 7, 8, 9, 10, 11, 12, 13], [4, 5, 6, 7, 8, 9, 10, 11, 12, 13, 14], [5, 6, 7, 8, 9, 10, 11, 12, 13, 14, 15], [6, 7, 8, 9, 10, 11, 12, 13, 14, 15, 16], [7, 8, 9, 10, 11, 12, 13, 14, 15, 16, 17], [8, 9, 10, 11, 12, 13, 14, 15, 16, 17, 18], [9, 10, 11, 12, 13, 14, 15, 16, 17, 18, 19], [10, 11, 12, 13, 14, 15, 16, 17, 18, 19, 20]]\n"
          ]
        }
      ],
      "source": [
        "list_add = []\n",
        "for x in range(11):\n",
        "    row = []\n",
        "    for y in range(11):\n",
        "        row.append(x + y)\n",
        "    list_add.append(row)\n",
        "print(list_add)"
      ]
    },
    {
      "cell_type": "markdown",
      "id": "jcooeZa8CglX",
      "metadata": {
        "id": "jcooeZa8CglX"
      },
      "source": [
        "## タプル\n"
      ]
    },
    {
      "cell_type": "markdown",
      "id": "nq46chUl2YbB",
      "metadata": {
        "id": "nq46chUl2YbB"
      },
      "source": [
        "### タプルを作る"
      ]
    },
    {
      "cell_type": "code",
      "execution_count": 19,
      "id": "yC9HBqOQ2Zq-",
      "metadata": {
        "id": "yC9HBqOQ2Zq-"
      },
      "outputs": [],
      "source": [
        "a = (1, 2, 3, 4, 5)\n",
        "b = (\"apple\", \"banana\", \"orange\", \"peach\")\n",
        "c = ()\n",
        "d = (1, \"hoge\", \"fuga\", 5, 7, \"aaa\")"
      ]
    },
    {
      "cell_type": "code",
      "execution_count": 20,
      "id": "0bb131a2",
      "metadata": {
        "colab": {
          "base_uri": "https://localhost:8080/"
        },
        "id": "0bb131a2",
        "outputId": "be01d887-5980-4b43-d9c9-583a90843795"
      },
      "outputs": [
        {
          "name": "stdout",
          "output_type": "stream",
          "text": [
            "(1, 2, 3, 4, 5)\n",
            "('apple', 'banana', 'orange', 'peach')\n",
            "()\n",
            "(1, 'hoge', 'fuga', 5, 7, 'aaa')\n"
          ]
        }
      ],
      "source": [
        "print(a)\n",
        "print(b)\n",
        "print(c)\n",
        "print(d)"
      ]
    },
    {
      "cell_type": "code",
      "execution_count": 21,
      "id": "2a920403",
      "metadata": {
        "colab": {
          "base_uri": "https://localhost:8080/"
        },
        "id": "2a920403",
        "outputId": "5448c711-b15f-421c-ee62-df2fe6c943f4"
      },
      "outputs": [
        {
          "name": "stdout",
          "output_type": "stream",
          "text": [
            "(1, 2, 3, 4, 5)\n",
            "(6, 7, 8, 9, 10)\n"
          ]
        }
      ],
      "source": [
        "print(a)\n",
        "a = (6, 7, 8, 9, 10)\n",
        "print(a)"
      ]
    },
    {
      "cell_type": "code",
      "execution_count": 22,
      "id": "e38e87e3",
      "metadata": {},
      "outputs": [
        {
          "name": "stdout",
          "output_type": "stream",
          "text": [
            "(1, 2, 3, 4, 5)\n",
            "(6, 7, 8, 9, 10)\n"
          ]
        }
      ],
      "source": [
        "a = (1, 2, 3, 4, 5)\n",
        "print(a)\n",
        "a = (6, 7, 8, 9, 10)\n",
        "print(a)"
      ]
    },
    {
      "cell_type": "code",
      "execution_count": 23,
      "id": "R3fc1b5y2gYU",
      "metadata": {
        "colab": {
          "base_uri": "https://localhost:8080/"
        },
        "id": "R3fc1b5y2gYU",
        "outputId": "7ef97147-92a7-4a5f-a212-36b10b1a1cc2"
      },
      "outputs": [
        {
          "data": {
            "text/plain": [
              "(1, 2, 3, 4, 5, 6)"
            ]
          },
          "execution_count": 23,
          "metadata": {},
          "output_type": "execute_result"
        }
      ],
      "source": [
        "num1 = (1, 2, 3)\n",
        "num2 = (4, 5, 6)\n",
        "num3 = num1 + num2\n",
        "num3"
      ]
    },
    {
      "cell_type": "code",
      "execution_count": 24,
      "id": "k1O2fKtp2hhP",
      "metadata": {
        "colab": {
          "base_uri": "https://localhost:8080/"
        },
        "id": "k1O2fKtp2hhP",
        "outputId": "370e9c75-15cd-498c-ff8e-08305839b6dd"
      },
      "outputs": [
        {
          "data": {
            "text/plain": [
              "(1, 2, 3, 4, 5, 6, 7, 8, 9)"
            ]
          },
          "execution_count": 24,
          "metadata": {},
          "output_type": "execute_result"
        }
      ],
      "source": [
        "num3 += (7, 8, 9)\n",
        "num3"
      ]
    },
    {
      "cell_type": "code",
      "execution_count": 25,
      "id": "EAE1_DO-2loB",
      "metadata": {
        "colab": {
          "base_uri": "https://localhost:8080/"
        },
        "id": "EAE1_DO-2loB",
        "outputId": "003f6946-79f8-4aa1-942c-1e8ab9cfeb32"
      },
      "outputs": [
        {
          "data": {
            "text/plain": [
              "(1, 2, 3, 1, 2, 3, 1, 2, 3)"
            ]
          },
          "execution_count": 25,
          "metadata": {},
          "output_type": "execute_result"
        }
      ],
      "source": [
        "num4 = num1 * 3\n",
        "num4"
      ]
    },
    {
      "cell_type": "code",
      "execution_count": 26,
      "id": "3V1DleMT2mYJ",
      "metadata": {
        "colab": {
          "base_uri": "https://localhost:8080/"
        },
        "id": "3V1DleMT2mYJ",
        "outputId": "61739b02-f3e3-47d2-f6b5-9f184c8ce3f0"
      },
      "outputs": [
        {
          "data": {
            "text/plain": [
              "(1, 2, 3, 1, 2, 3, 1, 2, 3, 1, 2, 3, 1, 2, 3, 1, 2, 3)"
            ]
          },
          "execution_count": 26,
          "metadata": {},
          "output_type": "execute_result"
        }
      ],
      "source": [
        "num4 *= 2\n",
        "num4"
      ]
    },
    {
      "cell_type": "markdown",
      "id": "24a1d75f",
      "metadata": {
        "id": "24a1d75f"
      },
      "source": [
        "#### 要素が1つのタプルを作る場合"
      ]
    },
    {
      "cell_type": "code",
      "execution_count": 120,
      "id": "mYgvBJWb2q61",
      "metadata": {
        "colab": {
          "base_uri": "https://localhost:8080/"
        },
        "id": "mYgvBJWb2q61",
        "outputId": "5efc248b-c0ca-4869-c5d4-68ad807e8c37"
      },
      "outputs": [
        {
          "data": {
            "text/plain": [
              "1"
            ]
          },
          "execution_count": 120,
          "metadata": {},
          "output_type": "execute_result"
        }
      ],
      "source": [
        "a = (1)\n",
        "a"
      ]
    },
    {
      "cell_type": "code",
      "execution_count": 121,
      "id": "DMS55lsT2sUj",
      "metadata": {
        "colab": {
          "base_uri": "https://localhost:8080/"
        },
        "id": "DMS55lsT2sUj",
        "outputId": "fe765a88-5122-4d55-9880-f31a649a7457"
      },
      "outputs": [
        {
          "data": {
            "text/plain": [
              "int"
            ]
          },
          "execution_count": 121,
          "metadata": {},
          "output_type": "execute_result"
        }
      ],
      "source": [
        "type(a)"
      ]
    },
    {
      "cell_type": "code",
      "execution_count": 122,
      "id": "iQRgVGwm2t6Y",
      "metadata": {
        "colab": {
          "base_uri": "https://localhost:8080/"
        },
        "id": "iQRgVGwm2t6Y",
        "outputId": "836b83f5-9035-4640-caef-4327ae30d815"
      },
      "outputs": [
        {
          "data": {
            "text/plain": [
              "(1,)"
            ]
          },
          "execution_count": 122,
          "metadata": {},
          "output_type": "execute_result"
        }
      ],
      "source": [
        "a = (1,)\n",
        "a"
      ]
    },
    {
      "cell_type": "code",
      "execution_count": 123,
      "id": "925d6684",
      "metadata": {
        "colab": {
          "base_uri": "https://localhost:8080/"
        },
        "id": "925d6684",
        "outputId": "1f2fbb6f-8765-4e77-ea46-e0020b87b3b4"
      },
      "outputs": [
        {
          "data": {
            "text/plain": [
              "tuple"
            ]
          },
          "execution_count": 123,
          "metadata": {},
          "output_type": "execute_result"
        }
      ],
      "source": [
        "type(a)"
      ]
    },
    {
      "cell_type": "markdown",
      "id": "4fbecc0b",
      "metadata": {
        "id": "4fbecc0b"
      },
      "source": [
        "### 組み込み関数`tuple()`"
      ]
    },
    {
      "cell_type": "code",
      "execution_count": 27,
      "id": "v5DfzScN2xUS",
      "metadata": {
        "colab": {
          "base_uri": "https://localhost:8080/"
        },
        "id": "v5DfzScN2xUS",
        "outputId": "6bd41b48-13d6-487e-ec8a-933da987edcd"
      },
      "outputs": [
        {
          "data": {
            "text/plain": [
              "('T', 'e', 'c', 'h', 'A', 'c', 'a', 'd', 'e', 'm', 'y')"
            ]
          },
          "execution_count": 27,
          "metadata": {},
          "output_type": "execute_result"
        }
      ],
      "source": [
        "e = tuple(\"TechAcademy\")\n",
        "e"
      ]
    },
    {
      "cell_type": "code",
      "execution_count": 125,
      "id": "zNe_WAiH2ymy",
      "metadata": {
        "colab": {
          "base_uri": "https://localhost:8080/"
        },
        "id": "zNe_WAiH2ymy",
        "outputId": "46959028-7fc3-4286-be8e-28657c1b635d"
      },
      "outputs": [
        {
          "data": {
            "text/plain": [
              "(1, 3, 5, 7, 9)"
            ]
          },
          "execution_count": 125,
          "metadata": {},
          "output_type": "execute_result"
        }
      ],
      "source": [
        "f = tuple(range(1, 11, 2))\n",
        "f"
      ]
    },
    {
      "cell_type": "code",
      "execution_count": 126,
      "id": "39019fed",
      "metadata": {
        "colab": {
          "base_uri": "https://localhost:8080/"
        },
        "id": "39019fed",
        "outputId": "07cfacbd-7422-4b58-b8a4-2cb6e00b0f18"
      },
      "outputs": [
        {
          "data": {
            "text/plain": [
              "()"
            ]
          },
          "execution_count": 126,
          "metadata": {},
          "output_type": "execute_result"
        }
      ],
      "source": [
        "g = tuple()\n",
        "g"
      ]
    },
    {
      "cell_type": "markdown",
      "id": "d6562181",
      "metadata": {
        "id": "d6562181"
      },
      "source": [
        "### タプルを使う"
      ]
    },
    {
      "cell_type": "markdown",
      "id": "va_xWS82jVXt",
      "metadata": {
        "id": "va_xWS82jVXt"
      },
      "source": [
        "#### 要素の参照"
      ]
    },
    {
      "cell_type": "code",
      "execution_count": 127,
      "id": "coiT6R_R25UR",
      "metadata": {
        "colab": {
          "base_uri": "https://localhost:8080/"
        },
        "id": "coiT6R_R25UR",
        "outputId": "6ca620f9-675e-43ad-ba3f-ad3725fe4bb3"
      },
      "outputs": [
        {
          "data": {
            "text/plain": [
              "(0, 1, 2, 3, 4, 5, 6, 7, 8, 9, 10, 11, 12, 13, 14, 15, 16, 17, 18, 19)"
            ]
          },
          "execution_count": 127,
          "metadata": {},
          "output_type": "execute_result"
        }
      ],
      "source": [
        "nums = tuple(range(20))\n",
        "nums"
      ]
    },
    {
      "cell_type": "code",
      "execution_count": 128,
      "id": "NdzKj3rX26e7",
      "metadata": {
        "colab": {
          "base_uri": "https://localhost:8080/"
        },
        "id": "NdzKj3rX26e7",
        "outputId": "d98cae85-e770-42f4-aa6b-ab991fe7a644"
      },
      "outputs": [
        {
          "data": {
            "text/plain": [
              "0"
            ]
          },
          "execution_count": 128,
          "metadata": {},
          "output_type": "execute_result"
        }
      ],
      "source": [
        "nums[0]"
      ]
    },
    {
      "cell_type": "code",
      "execution_count": 129,
      "id": "T7MpLe2s27Yu",
      "metadata": {
        "colab": {
          "base_uri": "https://localhost:8080/"
        },
        "id": "T7MpLe2s27Yu",
        "outputId": "0e9ac8d1-2880-4fd2-87e3-0354d0bb3439"
      },
      "outputs": [
        {
          "data": {
            "text/plain": [
              "1"
            ]
          },
          "execution_count": 129,
          "metadata": {},
          "output_type": "execute_result"
        }
      ],
      "source": [
        "nums[1]"
      ]
    },
    {
      "cell_type": "code",
      "execution_count": 130,
      "id": "hl2tARUZ28Um",
      "metadata": {
        "colab": {
          "base_uri": "https://localhost:8080/"
        },
        "id": "hl2tARUZ28Um",
        "outputId": "2b205948-962a-4fe9-d36d-eb2a9d29b75b"
      },
      "outputs": [
        {
          "data": {
            "text/plain": [
              "2"
            ]
          },
          "execution_count": 130,
          "metadata": {},
          "output_type": "execute_result"
        }
      ],
      "source": [
        "nums[2]"
      ]
    },
    {
      "cell_type": "code",
      "execution_count": 131,
      "id": "Gr3ESmW328-7",
      "metadata": {
        "colab": {
          "base_uri": "https://localhost:8080/"
        },
        "id": "Gr3ESmW328-7",
        "outputId": "8841c6ff-4211-411d-ddd3-4fca4574188a"
      },
      "outputs": [
        {
          "data": {
            "text/plain": [
              "(1, 2, 3, 4, 5, 6, 7, 8, 9)"
            ]
          },
          "execution_count": 131,
          "metadata": {},
          "output_type": "execute_result"
        }
      ],
      "source": [
        "nums[1:10]"
      ]
    },
    {
      "cell_type": "code",
      "execution_count": 132,
      "id": "1bOJPRQx29xx",
      "metadata": {
        "colab": {
          "base_uri": "https://localhost:8080/"
        },
        "id": "1bOJPRQx29xx",
        "outputId": "7f2d0c3a-2c9d-493f-fecf-000604296a4b"
      },
      "outputs": [
        {
          "data": {
            "text/plain": [
              "(0, 1, 2, 3, 4)"
            ]
          },
          "execution_count": 132,
          "metadata": {},
          "output_type": "execute_result"
        }
      ],
      "source": [
        "nums[:5]"
      ]
    },
    {
      "cell_type": "code",
      "execution_count": 133,
      "id": "DBS_ARSz2-nn",
      "metadata": {
        "colab": {
          "base_uri": "https://localhost:8080/"
        },
        "id": "DBS_ARSz2-nn",
        "outputId": "5c6a6e22-ec76-4d83-afc6-c074f7d59c51"
      },
      "outputs": [
        {
          "data": {
            "text/plain": [
              "(15, 16, 17, 18, 19)"
            ]
          },
          "execution_count": 133,
          "metadata": {},
          "output_type": "execute_result"
        }
      ],
      "source": [
        "nums[15:]"
      ]
    },
    {
      "cell_type": "code",
      "execution_count": 134,
      "id": "mD7qNjK02_8D",
      "metadata": {
        "colab": {
          "base_uri": "https://localhost:8080/"
        },
        "id": "mD7qNjK02_8D",
        "outputId": "0f65c33e-4cc4-458b-ef19-9556daa57c65"
      },
      "outputs": [
        {
          "data": {
            "text/plain": [
              "(1, 3, 5, 7, 9)"
            ]
          },
          "execution_count": 134,
          "metadata": {},
          "output_type": "execute_result"
        }
      ],
      "source": [
        "nums[1:10:2]"
      ]
    },
    {
      "cell_type": "code",
      "execution_count": 135,
      "id": "xG0nbIg53BiW",
      "metadata": {
        "colab": {
          "base_uri": "https://localhost:8080/"
        },
        "id": "xG0nbIg53BiW",
        "outputId": "1952ef0b-009d-4db8-db22-f62364cc1acc"
      },
      "outputs": [
        {
          "data": {
            "text/plain": [
              "(0, 3, 6, 9, 12, 15, 18)"
            ]
          },
          "execution_count": 135,
          "metadata": {},
          "output_type": "execute_result"
        }
      ],
      "source": [
        "nums[::3]"
      ]
    },
    {
      "cell_type": "code",
      "execution_count": 136,
      "id": "rfutro2r3CyH",
      "metadata": {
        "colab": {
          "base_uri": "https://localhost:8080/"
        },
        "id": "rfutro2r3CyH",
        "outputId": "32f46206-1e92-4bdb-f34a-2158690e6a13"
      },
      "outputs": [
        {
          "data": {
            "text/plain": [
              "(0, 1, 2, 3, 4, 5, 6, 7, 8, 9, 10, 11, 12, 13, 14, 15, 16, 17, 18, 19)"
            ]
          },
          "execution_count": 136,
          "metadata": {},
          "output_type": "execute_result"
        }
      ],
      "source": [
        "nums[::]"
      ]
    },
    {
      "cell_type": "code",
      "execution_count": 137,
      "id": "2019f21e",
      "metadata": {
        "colab": {
          "base_uri": "https://localhost:8080/"
        },
        "id": "2019f21e",
        "outputId": "452e1c84-2319-4dd7-bafe-665e61d18983"
      },
      "outputs": [
        {
          "name": "stdout",
          "output_type": "stream",
          "text": [
            "100\n",
            "200\n",
            "300\n"
          ]
        }
      ],
      "source": [
        "nums = (100, 200, 300)\n",
        "a, b, c = nums\n",
        "print(a)\n",
        "print(b)\n",
        "print(c)"
      ]
    },
    {
      "cell_type": "markdown",
      "id": "0ec58c0f",
      "metadata": {
        "id": "0ec58c0f"
      },
      "source": [
        "#### 要素の検索"
      ]
    },
    {
      "cell_type": "code",
      "execution_count": 138,
      "id": "235c636e",
      "metadata": {
        "colab": {
          "base_uri": "https://localhost:8080/"
        },
        "id": "235c636e",
        "outputId": "4f9a0803-1b1b-4203-95f7-9f81483e6253"
      },
      "outputs": [
        {
          "name": "stdout",
          "output_type": "stream",
          "text": [
            "('T', 'e', 'c', 'h', 'A', 'c', 'a', 'd', 'e', 'm', 'y')\n",
            "1\n",
            "2\n",
            "0\n",
            "6\n",
            "1\n"
          ]
        }
      ],
      "source": [
        "ta = tuple(\"TechAcademy\")\n",
        "print(ta)\n",
        "('T', 'e', 'c', 'h', 'A', 'c', 'a', 'd', 'e', 'm', 'y')\n",
        "print(ta.count(\"a\"))\n",
        "print(ta.count(\"e\"))\n",
        "print(ta.count(\"b\"))\n",
        "print(ta.index(\"a\"))\n",
        "print(ta.index(\"e\"))"
      ]
    },
    {
      "cell_type": "code",
      "execution_count": 29,
      "id": "bb56962c",
      "metadata": {},
      "outputs": [
        {
          "name": "stdout",
          "output_type": "stream",
          "text": [
            "1\n",
            "2\n",
            "0\n",
            "6\n",
            "1\n"
          ]
        }
      ],
      "source": [
        "ta = tuple(\"TechAcademy\")\n",
        "\n",
        "print(ta.count(\"a\")) # count：その要素が何個あるかを数える\n",
        "print(ta.count(\"e\"))\n",
        "print(ta.count(\"b\"))\n",
        "print(ta.index(\"a\")) # index：その要素がどこにあるか（位置）を教える\n",
        "print(ta.index(\"e\"))"
      ]
    },
    {
      "cell_type": "code",
      "execution_count": 139,
      "id": "QFR45Khd3hI3",
      "metadata": {
        "colab": {
          "base_uri": "https://localhost:8080/"
        },
        "id": "QFR45Khd3hI3",
        "outputId": "0bf33fa2-9663-4dd6-aa0f-b037e2bb674a"
      },
      "outputs": [
        {
          "data": {
            "text/plain": [
              "True"
            ]
          },
          "execution_count": 139,
          "metadata": {},
          "output_type": "execute_result"
        }
      ],
      "source": [
        "\"a\" in ta"
      ]
    },
    {
      "cell_type": "code",
      "execution_count": 140,
      "id": "7d08afbb",
      "metadata": {
        "colab": {
          "base_uri": "https://localhost:8080/"
        },
        "id": "7d08afbb",
        "outputId": "86c94f40-4bae-49ea-d459-caef22505e0c"
      },
      "outputs": [
        {
          "data": {
            "text/plain": [
              "False"
            ]
          },
          "execution_count": 140,
          "metadata": {},
          "output_type": "execute_result"
        }
      ],
      "source": [
        "\"b\" in ta"
      ]
    },
    {
      "cell_type": "markdown",
      "id": "cLURm1GOCyI3",
      "metadata": {
        "id": "cLURm1GOCyI3"
      },
      "source": [
        "## シーケンスに関わる便利な関数"
      ]
    },
    {
      "cell_type": "markdown",
      "id": "fee1fb56",
      "metadata": {
        "id": "fee1fb56"
      },
      "source": [
        "### `zip()`"
      ]
    },
    {
      "cell_type": "code",
      "execution_count": 33,
      "id": "QhTW2GG93jdp",
      "metadata": {
        "id": "QhTW2GG93jdp"
      },
      "outputs": [],
      "source": [
        "a0 = [ 1,  2,  3]\n",
        "a1 = [ 4,  5,  6]\n",
        "a2 = [ 7,  8,  9]\n",
        "a3 = [10, 11, 12]\n",
        "temp_a = zip(a0, a1, a2, a3)"
      ]
    },
    {
      "cell_type": "code",
      "execution_count": null,
      "id": "64a83366",
      "metadata": {},
      "outputs": [
        {
          "name": "stdout",
          "output_type": "stream",
          "text": [
            "<zip object at 0x000001E51F767780>\n"
          ]
        }
      ],
      "source": [
        "print(temp_a) # print(temp_a): zipオブジェクトの文字列表現を表示"
      ]
    },
    {
      "cell_type": "code",
      "execution_count": null,
      "id": "GbpWS6Uen_u5",
      "metadata": {
        "colab": {
          "base_uri": "https://localhost:8080/"
        },
        "id": "GbpWS6Uen_u5",
        "outputId": "bd9b56ae-1ce5-49e8-b48b-b0e411b0a8eb"
      },
      "outputs": [
        {
          "data": {
            "text/plain": [
              "zip"
            ]
          },
          "execution_count": 31,
          "metadata": {},
          "output_type": "execute_result"
        }
      ],
      "source": [
        "type(temp_a) # type(temp_a): zipオブジェクトのデータ型を表示\n",
        "\n",
        "# zipオブジェクトは一度しか使用できないイテレータ。一度使用すると中身が空になってしまうので、複数回使用したい場合は事前にリストに変換しておく"
      ]
    },
    {
      "cell_type": "code",
      "execution_count": 143,
      "id": "R9vcJPploPMX",
      "metadata": {
        "colab": {
          "base_uri": "https://localhost:8080/"
        },
        "id": "R9vcJPploPMX",
        "outputId": "b13fc11c-dbdf-4be5-9fe5-e7bdc9c7f954"
      },
      "outputs": [
        {
          "data": {
            "text/plain": [
              "[(1, 4, 7, 10), (2, 5, 8, 11), (3, 6, 9, 12)]"
            ]
          },
          "execution_count": 143,
          "metadata": {},
          "output_type": "execute_result"
        }
      ],
      "source": [
        "a = list(temp_a)\n",
        "a"
      ]
    },
    {
      "cell_type": "code",
      "execution_count": 144,
      "id": "7c6e4734",
      "metadata": {
        "colab": {
          "base_uri": "https://localhost:8080/"
        },
        "id": "7c6e4734",
        "outputId": "3bbcbd6b-434e-478b-8b90-882a1af643c0"
      },
      "outputs": [
        {
          "name": "stdout",
          "output_type": "stream",
          "text": [
            "(1, 4, 7, 10)\n",
            "(2, 5, 8, 11)\n",
            "(3, 6, 9, 12)\n",
            "<class 'tuple'>\n"
          ]
        }
      ],
      "source": [
        "print(a[0])\n",
        "print(a[1])\n",
        "print(a[2])\n",
        "print(type(a[0]))"
      ]
    },
    {
      "cell_type": "markdown",
      "id": "1b5ab1ad",
      "metadata": {
        "id": "1b5ab1ad"
      },
      "source": [
        "### `enumerate()`"
      ]
    },
    {
      "cell_type": "code",
      "execution_count": 38,
      "id": "eb08ce63",
      "metadata": {
        "colab": {
          "base_uri": "https://localhost:8080/"
        },
        "id": "eb08ce63",
        "outputId": "080f2f6c-95a6-458d-c8c5-8b80c102b400"
      },
      "outputs": [
        {
          "data": {
            "text/plain": [
              "[(0, 'baseball'), (1, 'soccer'), (2, 'volleyball'), (3, 'golf'), (4, 'tennis')]"
            ]
          },
          "execution_count": 38,
          "metadata": {},
          "output_type": "execute_result"
        }
      ],
      "source": [
        "# listが変数として定義されている場合は削除\n",
        "try:\n",
        "    del list\n",
        "except NameError:\n",
        "    pass\n",
        "\n",
        "# 組み込みのlistを復元\n",
        "import builtins\n",
        "list = builtins.list\n",
        "\n",
        "sports = [\"baseball\", \"soccer\", \"volleyball\", \"golf\", \"tennis\"]\n",
        "temp_sports = enumerate(sports)\n",
        "sports_tl = list(temp_sports)\n",
        "sports_tl"
      ]
    },
    {
      "cell_type": "code",
      "execution_count": 41,
      "id": "4d1407a0",
      "metadata": {},
      "outputs": [],
      "source": [
        "del list  # 変数を削除\n",
        "import builtins\n",
        "list = builtins.list  # 組み込み関数を復元"
      ]
    },
    {
      "cell_type": "code",
      "execution_count": 40,
      "id": "05d91a00",
      "metadata": {},
      "outputs": [
        {
          "data": {
            "text/plain": [
              "[(0, 'baseball'), (1, 'soccer'), (2, 'volleyball'), (3, 'golf'), (4, 'tennis')]"
            ]
          },
          "execution_count": 40,
          "metadata": {},
          "output_type": "execute_result"
        }
      ],
      "source": [
        "sports = [\"baseball\", \"soccer\", \"volleyball\", \"golf\", \"tennis\"]\n",
        "temp_sports = enumerate(sports)\n",
        "sports_tl = list(temp_sports)\n",
        "sports_tl"
      ]
    },
    {
      "cell_type": "code",
      "execution_count": 39,
      "id": "j1oglooW37fn",
      "metadata": {
        "colab": {
          "base_uri": "https://localhost:8080/"
        },
        "id": "j1oglooW37fn",
        "outputId": "30c1d0e0-4d6d-4826-cf02-331e4bf7e1c9"
      },
      "outputs": [
        {
          "name": "stdout",
          "output_type": "stream",
          "text": [
            "index: 0 => baseball\n",
            "index: 1 => soccer\n",
            "index: 2 => volleyball\n",
            "index: 3 => golf\n",
            "index: 4 => tennis\n"
          ]
        }
      ],
      "source": [
        "for i, value in enumerate(sports):\n",
        "    print(f\"index: {i} => {value}\")"
      ]
    },
    {
      "cell_type": "code",
      "execution_count": 42,
      "id": "T61lX5IVm8B-",
      "metadata": {
        "colab": {
          "base_uri": "https://localhost:8080/"
        },
        "id": "T61lX5IVm8B-",
        "outputId": "b956e608-23a7-4e0f-9400-1413b3d4901b"
      },
      "outputs": [
        {
          "name": "stdout",
          "output_type": "stream",
          "text": [
            "index: 0 => baseball\n",
            "index: 2 => volleyball\n",
            "index: 4 => tennis\n"
          ]
        }
      ],
      "source": [
        "for i, value in enumerate(sports):\n",
        "    if i % 2 == 0:\n",
        "      print(f\"index: {i} => {value}\")"
      ]
    },
    {
      "cell_type": "code",
      "execution_count": 43,
      "id": "FpytgzbqpLYd",
      "metadata": {
        "id": "FpytgzbqpLYd"
      },
      "outputs": [],
      "source": [
        "names = ['ひろゆき', 'ボブ', 'あかり', 'ベロニカ', 'フェリペ']\n",
        "scores = [90, 2, 58, 100, 30]"
      ]
    },
    {
      "cell_type": "code",
      "execution_count": 44,
      "id": "Ps1Dwa1Enn6P",
      "metadata": {
        "colab": {
          "base_uri": "https://localhost:8080/"
        },
        "id": "Ps1Dwa1Enn6P",
        "outputId": "e8823b21-1d99-4cc0-f445-469f9588192b"
      },
      "outputs": [
        {
          "name": "stdout",
          "output_type": "stream",
          "text": [
            "[('ひろゆき', 90), ('ボブ', 2), ('あかり', 58), ('ベロニカ', 100), ('フェリペ', 30)]\n"
          ]
        }
      ],
      "source": [
        "print(list(zip(names, scores)))"
      ]
    },
    {
      "cell_type": "code",
      "execution_count": null,
      "id": "lAbljxrXgq2H",
      "metadata": {
        "colab": {
          "base_uri": "https://localhost:8080/"
        },
        "id": "lAbljxrXgq2H",
        "outputId": "624988ca-3b39-4dac-ca22-465d0bfb2271"
      },
      "outputs": [
        {
          "name": "stdout",
          "output_type": "stream",
          "text": [
            "以下の生徒は明日の放課後の補習に参加すること:\n",
            "\n",
            "- ボブ (学籍番号: 2)\n",
            "- あかり (学籍番号: 3)\n",
            "- フェリペ (学籍番号: 5)\n"
          ]
        }
      ],
      "source": [
        "\"\"\"\n",
        "赤点(60点未満)の生徒に補習を指示する文書を表示するコード\n",
        "\"\"\"\n",
        "\n",
        "print(\"以下の生徒は明日の放課後の補習に参加すること:\")\n",
        "print() # 改行\n",
        "for index, (name, score) in enumerate(zip(names, scores)):\n",
        "    # 現実世界での番号は0ではなく1から始まることが多いため、\n",
        "    # `index+1`とする。\n",
        "    student_number = index + 1\n",
        "    if score < 60:\n",
        "        print(f\"- {name} (学籍番号: {index+1})\")"
      ]
    }
  ],
  "metadata": {
    "colab": {
      "provenance": []
    },
    "kernelspec": {
      "display_name": ".venv",
      "language": "python",
      "name": "python3"
    },
    "language_info": {
      "codemirror_mode": {
        "name": "ipython",
        "version": 3
      },
      "file_extension": ".py",
      "mimetype": "text/x-python",
      "name": "python",
      "nbconvert_exporter": "python",
      "pygments_lexer": "ipython3",
      "version": "3.12.10"
    }
  },
  "nbformat": 4,
  "nbformat_minor": 5
}
