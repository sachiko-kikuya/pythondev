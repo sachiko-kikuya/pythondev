{
 "cells": [
  {
   "cell_type": "code",
   "execution_count": 7,
   "id": "bc747c57",
   "metadata": {},
   "outputs": [
    {
     "name": "stdout",
     "output_type": "stream",
     "text": [
      "team       win lose draw   rate\n",
      "-----------------------------------\n",
      "Archers     77   64    2  0.546\n",
      "Meteors     71   69    3  0.507\n",
      "Cheetahs    69   68    6  0.504\n",
      "Sharks      70   70    3  0.500\n",
      "Pythons     68   73    2  0.482\n",
      "Owls        59   82    2  0.418\n"
     ]
    }
   ],
   "source": [
    "class Baseball_Team:\n",
    "    def __init__(self, name, win, lose, draw):\n",
    "        self.name = name\n",
    "        self.win = win\n",
    "        self.lose = lose\n",
    "        self.draw = draw\n",
    "    \n",
    "    @classmethod\n",
    "    def calc_win_rate(cls, win, lose):\n",
    "        win_rate = win / (win + lose)\n",
    "        return win_rate\n",
    "\n",
    "    def show_team_result(self):\n",
    "        win_rate = self.calc_win_rate(self.win, self.lose)\n",
    "        # 書式指定で幅を揃える\n",
    "        print(f\"{self.name:<10} {self.win:>3} {self.lose:>4} {self.draw:>4} {win_rate:>6.3f}\")\n",
    "\n",
    "# :<10: チーム名を左寄せで10文字幅に固定\n",
    "# :>3: 勝ち数を右寄せで3文字幅に固定\n",
    "# :>4: 負け数・引き分け数を右寄せで4文字幅に固定\n",
    "# :>6.3f: 勝率を右寄せで6文字幅、小数点以下3桁に固定\n",
    "\n",
    "# Baseball_Teamのインスタンスを6個作成\n",
    "team1 = Baseball_Team(\"Archers\", 77, 64, 2)\n",
    "team2 = Baseball_Team(\"Meteors\", 71, 69, 3)\n",
    "team3 = Baseball_Team(\"Cheetahs\", 69, 68, 6)\n",
    "team4 = Baseball_Team(\"Sharks\", 70, 70, 3)\n",
    "team5 = Baseball_Team(\"Pythons\", 68, 73, 2)\n",
    "team6 = Baseball_Team(\"Owls\", 59, 82, 2)\n",
    "\n",
    "# 確認用の表示\n",
    "print(\"team       win lose draw   rate\")\n",
    "print(\"-\" * 35) # 区切り線を追加\n",
    "team1.show_team_result()\n",
    "team2.show_team_result()\n",
    "team3.show_team_result()\n",
    "team4.show_team_result()\n",
    "team5.show_team_result()\n",
    "team6.show_team_result()"
   ]
  }
 ],
 "metadata": {
  "kernelspec": {
   "display_name": ".venv",
   "language": "python",
   "name": "python3"
  },
  "language_info": {
   "codemirror_mode": {
    "name": "ipython",
    "version": 3
   },
   "file_extension": ".py",
   "mimetype": "text/x-python",
   "name": "python",
   "nbconvert_exporter": "python",
   "pygments_lexer": "ipython3",
   "version": "3.12.10"
  }
 },
 "nbformat": 4,
 "nbformat_minor": 5
}
