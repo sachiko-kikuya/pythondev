{
 "cells": [
  {
   "cell_type": "code",
   "execution_count": null,
   "id": "19f5241e",
   "metadata": {},
   "outputs": [
    {
     "name": "stdout",
     "output_type": "stream",
     "text": [
      "10人のテストの平均点は73.4点です\n"
     ]
    }
   ],
   "source": [
    "total_score = 0\n",
    "count = 0\n",
    "\n",
    "while True: # 無限ループを開始\n",
    "    score = int(input(\"点数を入力してください：\"))\n",
    "\n",
    "    if score == -1: # -1が入力されたらbreakで無限ループ処理を終了\n",
    "        break\n",
    "\n",
    "    else:\n",
    "        total_score += score # 入力されたスコアの合計値を算出\n",
    "        count += 1 # 人数をカウント\n",
    "\n",
    "if count > 0:\n",
    "    average = total_score / count # 平均点を算出\n",
    "\n",
    "print(f\"{count}人のテストの平均点は{average:.1f}点です\") # :.1f の意味、:フォーマット指定の開始、.1　小数点以下1桁まで表示、f浮動小数点数として表示\n"
   ]
  }
 ],
 "metadata": {
  "kernelspec": {
   "display_name": ".venv",
   "language": "python",
   "name": "python3"
  },
  "language_info": {
   "codemirror_mode": {
    "name": "ipython",
    "version": 3
   },
   "file_extension": ".py",
   "mimetype": "text/x-python",
   "name": "python",
   "nbconvert_exporter": "python",
   "pygments_lexer": "ipython3",
   "version": "3.12.10"
  }
 },
 "nbformat": 4,
 "nbformat_minor": 5
}
