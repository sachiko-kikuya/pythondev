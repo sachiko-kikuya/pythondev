{
 "cells": [
  {
   "cell_type": "code",
   "execution_count": null,
   "id": "783904c5",
   "metadata": {},
   "outputs": [
    {
     "name": "stdout",
     "output_type": "stream",
     "text": [
      "2\n",
      "3\n",
      "5\n",
      "7\n",
      "11\n",
      "13\n",
      "17\n",
      "19\n",
      "23\n",
      "29\n",
      "31\n",
      "37\n",
      "41\n",
      "43\n",
      "47\n",
      "53\n",
      "59\n",
      "61\n",
      "67\n",
      "71\n",
      "73\n",
      "79\n",
      "83\n",
      "89\n",
      "97\n"
     ]
    }
   ],
   "source": [
    "for n in range(1,101): \n",
    "\n",
    "    if n == 1:\n",
    "        continue\n",
    "\n",
    "    elif (n == 2 or n % 2 == 1) and (n == 3 or n % 3 != 0)and (n == 5 or n % 5 != 0) and (n == 7 or n % 7 != 0):\n",
    "        print(n)\n",
    "\n",
    "# elif n == 2 or n % 2 == 1:  →　「2または奇数の場合」\n",
    "# n % 3 != 0 　→　「nを3で割った余りが0と等しくない」"
   ]
  }
 ],
 "metadata": {
  "kernelspec": {
   "display_name": ".venv",
   "language": "python",
   "name": "python3"
  },
  "language_info": {
   "codemirror_mode": {
    "name": "ipython",
    "version": 3
   },
   "file_extension": ".py",
   "mimetype": "text/x-python",
   "name": "python",
   "nbconvert_exporter": "python",
   "pygments_lexer": "ipython3",
   "version": "3.12.10"
  }
 },
 "nbformat": 4,
 "nbformat_minor": 5
}
