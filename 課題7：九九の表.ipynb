{
 "cells": [
  {
   "cell_type": "code",
   "execution_count": 11,
   "id": "4ca8894b",
   "metadata": {},
   "outputs": [
    {
     "name": "stdout",
     "output_type": "stream",
     "text": [
      "  1  2  3  4  5  6  7  8  9\n",
      "  2  4  6  8 10 12 14 16 18\n",
      "  3  6  9 12 15 18 21 24 27\n",
      "  4  8 12 16 20 24 28 32 36\n",
      "  5 10 15 20 25 30 35 40 45\n",
      "  6 12 18 24 30 36 42 48 54\n",
      "  7 14 21 28 35 42 49 56 63\n",
      "  8 16 24 32 40 48 56 64 72\n",
      "  9 18 27 36 45 54 63 72 81\n"
     ]
    }
   ],
   "source": [
    "#@title 九九の表を表示する\n",
    "list = [[(v * h) for h in range(1,10)] for v in range(1,10)]\n",
    "\n",
    "for row in list:\n",
    "    for num in row:\n",
    "        print(f\"{num:3d}\",end=\"\")\n",
    "    print(\"\")\n"
   ]
  },
  {
   "cell_type": "code",
   "execution_count": null,
   "id": "dcb29da7",
   "metadata": {},
   "outputs": [
    {
     "name": "stdout",
     "output_type": "stream",
     "text": [
      "  1  2  3  4  5  6  7  8  9\n",
      "  2  4  6  8 10 12 14 16 18\n",
      "  3  6  9 12 15 18 21 24 27\n",
      "  4  8 12 16 20 24 28 32 36\n",
      "  5 10 15 20 25 30 35 40 45\n",
      "  6 12 18 24 30 36 42 48 54\n",
      "  7 14 21 28 35 42 49 56 63\n",
      "  8 16 24 32 40 48 56 64 72\n",
      "  9 18 27 36 45 54 63 72 81\n"
     ]
    }
   ],
   "source": [
    "# 学習用メモ\n",
    "#@title 九九の表を表示する\n",
    "for v in range(1, 10):\n",
    "    for h in range(1, 10):\n",
    "        print(f\"{(v * h):3d}\", end=\"\")\n",
    "\n",
    "    print(\"\")\n",
    "\n",
    "# {(v * h):3d}の3dは、書式指定文字列となります。3d は「3桁の整数値として表示する」指示\n",
    "# : : フォーマット指定の開始、3 : 幅指定（3文字分の幅を確保）、d : データ型指定（decimal = 10進整数）\n",
    "# end=\"\" は、print() したあとで改行されなくしている　※print() は通常、出力内容の末尾で自動的に改行する\n",
    "# 9の段（9, 18, 27, ...）に来たら改行したいため、内側の for 文の処理が終わったら print(\"\") を実行し、改行させている"
   ]
  }
 ],
 "metadata": {
  "kernelspec": {
   "display_name": ".venv",
   "language": "python",
   "name": "python3"
  },
  "language_info": {
   "codemirror_mode": {
    "name": "ipython",
    "version": 3
   },
   "file_extension": ".py",
   "mimetype": "text/x-python",
   "name": "python",
   "nbconvert_exporter": "python",
   "pygments_lexer": "ipython3",
   "version": "3.12.10"
  }
 },
 "nbformat": 4,
 "nbformat_minor": 5
}
