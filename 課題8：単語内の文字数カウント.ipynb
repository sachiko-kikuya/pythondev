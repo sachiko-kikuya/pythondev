{
 "cells": [
  {
   "cell_type": "code",
   "execution_count": 21,
   "id": "eb14a767",
   "metadata": {},
   "outputs": [
    {
     "name": "stdout",
     "output_type": "stream",
     "text": [
      "['bear', 'cat', 'dog', 'giraffe', 'horse', 'kangaroo']\n",
      "aが5個ありました\n",
      "bが1個ありました\n",
      "cが1個ありました\n",
      "dが1個ありました\n",
      "eが3個ありました\n",
      "fが2個ありました\n",
      "gが3個ありました\n",
      "hが1個ありました\n",
      "iが1個ありました\n",
      "kが1個ありました\n",
      "nが1個ありました\n",
      "oが4個ありました\n",
      "rが4個ありました\n",
      "sが1個ありました\n",
      "tが1個ありました\n"
     ]
    }
   ],
   "source": [
    "alphabet = {'a':0, 'b':0, 'c':0, 'd':0, 'e':0, 'f':0, 'g':0, 'h':0, 'i':0, 'j':0, 'k':0, 'l':0, 'm':0, 'n':0, 'o':0, 'p':0, 'q':0, 'r':0, 's':0, 't':0, 'u':0, 'v':0, 'w':0, 'x':0, 'y':0, 'z':0}\n",
    "\n",
    "word_list = []\n",
    "\n",
    "while True:\n",
    "    word = input(\"英単語を入力してください：\")\n",
    "\n",
    "    if word == \"\":\n",
    "        break\n",
    "\n",
    "    word_list.append(word)\n",
    "\n",
    "    for char in word:\n",
    "        if char in alphabet:\n",
    "            alphabet[char] += 1\n",
    "     \n",
    "word_list.sort()\n",
    "print(word_list)\n",
    "\n",
    "for char, count in alphabet.items():\n",
    "    if count > 0:\n",
    "        print(f\"{char}が{count}個ありました\")\n",
    "\n",
    "\n",
    "# for char in word:で一文字ずつ取り出して変数charに代入\n",
    "# charがalphabetであれば、カウントする。alphabetがhのときは、alphabet['h'] += 1 となり hのカウントが1増える\n",
    "# word_list.sort()：word_listを　sort() を使ってアルファベット順に並べ替え\n",
    "# items()\tキーと値のペアをタプルにしたものの一覧（リスト形式）\n",
    "# alphabet.items() で全ての（文字, 個数）のペアを取得、char, count で文字と個数を同時に受け取る。countという変数名で各文字の数量を定義"
   ]
  }
 ],
 "metadata": {
  "kernelspec": {
   "display_name": ".venv",
   "language": "python",
   "name": "python3"
  },
  "language_info": {
   "codemirror_mode": {
    "name": "ipython",
    "version": 3
   },
   "file_extension": ".py",
   "mimetype": "text/x-python",
   "name": "python",
   "nbconvert_exporter": "python",
   "pygments_lexer": "ipython3",
   "version": "3.12.10"
  }
 },
 "nbformat": 4,
 "nbformat_minor": 5
}
