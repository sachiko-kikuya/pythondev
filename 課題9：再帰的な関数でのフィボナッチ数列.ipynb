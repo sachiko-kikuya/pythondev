{
 "cells": [
  {
   "cell_type": "code",
   "execution_count": 17,
   "id": "4838f2c0",
   "metadata": {},
   "outputs": [
    {
     "name": "stdout",
     "output_type": "stream",
     "text": [
      "55\n"
     ]
    }
   ],
   "source": [
    "import prognum\n",
    "num = int(input(\"何番目の数値を求めますか？：\"))\n",
    "\n",
    "result = prognum.fibonacci(num)  # prognum.fibonacci() で呼び出す\n",
    "print(result)"
   ]
  }
 ],
 "metadata": {
  "kernelspec": {
   "display_name": ".venv",
   "language": "python",
   "name": "python3"
  },
  "language_info": {
   "codemirror_mode": {
    "name": "ipython",
    "version": 3
   },
   "file_extension": ".py",
   "mimetype": "text/x-python",
   "name": "python",
   "nbconvert_exporter": "python",
   "pygments_lexer": "ipython3",
   "version": "3.12.10"
  }
 },
 "nbformat": 4,
 "nbformat_minor": 5
}
